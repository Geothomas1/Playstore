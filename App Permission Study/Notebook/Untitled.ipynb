{
 "cells": [
  {
   "cell_type": "code",
   "execution_count": 18,
   "id": "civic-peripheral",
   "metadata": {},
   "outputs": [],
   "source": [
    "import pandas as pd "
   ]
  },
  {
   "cell_type": "code",
   "execution_count": 19,
   "id": "contemporary-hardware",
   "metadata": {},
   "outputs": [],
   "source": [
    "with open('Data.jl') as f:\n",
    "    lines = f.read().splitlines()"
   ]
  },
  {
   "cell_type": "code",
   "execution_count": 20,
   "id": "stuck-motorcycle",
   "metadata": {},
   "outputs": [],
   "source": [
    "df_inter = pd.DataFrame(lines)\n",
    "df_inter.columns = ['json_element']"
   ]
  },
  {
   "cell_type": "code",
   "execution_count": 21,
   "id": "elect-belle",
   "metadata": {},
   "outputs": [
    {
     "name": "stdout",
     "output_type": "stream",
     "text": [
      "Index(['json_element'], dtype='object')\n"
     ]
    }
   ],
   "source": [
    "print(df_inter.columns)"
   ]
  },
  {
   "cell_type": "code",
   "execution_count": 22,
   "id": "recognized-remains",
   "metadata": {},
   "outputs": [
    {
     "data": {
      "text/plain": [
       "0       {'appId': 'com.casualgamefactory.wordapart', '...\n",
       "1       {'appId': 'com.noodlecake.typeshift', 'appName...\n",
       "2       {'appId': 'com.q42.ohno', 'appName': '0h n0', ...\n",
       "3       {'appId': 'com.finalgamestudio.aurora.hex.jigs...\n",
       "4       {'appId': 'za.co.twinc.a9letterjumble', 'appNa...\n",
       "                              ...                        \n",
       "4995    {'appId': 'org.iggymedia.periodtracker', 'appN...\n",
       "4996    {'appId': 'com.periodapp.period', 'appName': '...\n",
       "4997    {'appId': 'com.bm.android.thermometer', 'appNa...\n",
       "4998    {'appId': 'com.kiroglue.beingdad', 'appName': ...\n",
       "4999    {'appId': 'com.go.flo', 'appName': 'Period Tra...\n",
       "Name: json_element, Length: 5000, dtype: object"
      ]
     },
     "execution_count": 22,
     "metadata": {},
     "output_type": "execute_result"
    }
   ],
   "source": [
    "import json\n",
    "df_inter['json_element'].apply(json.loads)"
   ]
  },
  {
   "cell_type": "code",
   "execution_count": 170,
   "id": "provincial-leonard",
   "metadata": {},
   "outputs": [],
   "source": [
    "df_final = pd.json_normalize(df_inter['json_element'].apply(json.loads))"
   ]
  },
  {
   "cell_type": "code",
   "execution_count": 191,
   "id": "acknowledged-method",
   "metadata": {},
   "outputs": [],
   "source": [
    "Dangerous=['read the contents of your USB storage','modify or delete the contents of your USB storage']\n",
    "appList=[]\n",
    "temp=[]\n",
    "permissionList=[]\n"
   ]
  },
  {
   "cell_type": "code",
   "execution_count": 192,
   "id": "quick-dollar",
   "metadata": {},
   "outputs": [],
   "source": [
    "for i in range(len(df_final)):#from .jl jsonlines \n",
    "    #print(df_final['appName'][i])\n",
    "    temp=df_final['allPermissions'][i]\n",
    "    #print(temp)\n",
    "    for j in range(len(temp)):\n",
    "        #print(temp[j]['permission'],j)\n",
    "        permissionList.append(temp[j]['permission'])\n",
    "    if Dangerous[0] in permissionList and Dangerous[1] in permissionList:\n",
    "        appList.append(df_final['appName'][i])\n",
    "        permissionList=[]\n",
    "    else:\n",
    "        permissionList=[]"
   ]
  },
  {
   "cell_type": "code",
   "execution_count": 193,
   "id": "colonial-doctor",
   "metadata": {},
   "outputs": [],
   "source": [
    "\n",
    "new_appList = []\n",
    "for elem in appList:\n",
    "    if elem not in new_appList:\n",
    "        new_appList.append(elem) "
   ]
  },
  {
   "cell_type": "code",
   "execution_count": 194,
   "id": "blank-extraction",
   "metadata": {},
   "outputs": [
    {
     "name": "stdout",
     "output_type": "stream",
     "text": [
      "3456\n"
     ]
    }
   ],
   "source": [
    "print(len(new_appList))"
   ]
  },
  {
   "cell_type": "code",
   "execution_count": null,
   "id": "great-modem",
   "metadata": {},
   "outputs": [],
   "source": []
  },
  {
   "cell_type": "code",
   "execution_count": null,
   "id": "statutory-reservation",
   "metadata": {},
   "outputs": [],
   "source": []
  }
 ],
 "metadata": {
  "kernelspec": {
   "display_name": "Python 3",
   "language": "python",
   "name": "python3"
  },
  "language_info": {
   "codemirror_mode": {
    "name": "ipython",
    "version": 3
   },
   "file_extension": ".py",
   "mimetype": "text/x-python",
   "name": "python",
   "nbconvert_exporter": "python",
   "pygments_lexer": "ipython3",
   "version": "3.8.8"
  }
 },
 "nbformat": 4,
 "nbformat_minor": 5
}
