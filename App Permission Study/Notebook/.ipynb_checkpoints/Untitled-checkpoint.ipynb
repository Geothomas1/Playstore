{
 "cells": [
  {
   "cell_type": "code",
   "execution_count": 18,
   "id": "civic-peripheral",
   "metadata": {},
   "outputs": [],
   "source": [
    "import pandas as pd "
   ]
  },
  {
   "cell_type": "code",
   "execution_count": 19,
   "id": "contemporary-hardware",
   "metadata": {},
   "outputs": [],
   "source": [
    "with open('Data.jl') as f:\n",
    "    lines = f.read().splitlines()"
   ]
  },
  {
   "cell_type": "code",
   "execution_count": 20,
   "id": "stuck-motorcycle",
   "metadata": {},
   "outputs": [],
   "source": [
    "df_inter = pd.DataFrame(lines)\n",
    "df_inter.columns = ['json_element']"
   ]
  },
  {
   "cell_type": "code",
   "execution_count": 21,
   "id": "elect-belle",
   "metadata": {},
   "outputs": [
    {
     "name": "stdout",
     "output_type": "stream",
     "text": [
      "Index(['json_element'], dtype='object')\n"
     ]
    }
   ],
   "source": [
    "print(df_inter.columns)"
   ]
  },
  {
   "cell_type": "code",
   "execution_count": 22,
   "id": "recognized-remains",
   "metadata": {},
   "outputs": [
    {
     "data": {
      "text/plain": [
       "0       {'appId': 'com.casualgamefactory.wordapart', '...\n",
       "1       {'appId': 'com.noodlecake.typeshift', 'appName...\n",
       "2       {'appId': 'com.q42.ohno', 'appName': '0h n0', ...\n",
       "3       {'appId': 'com.finalgamestudio.aurora.hex.jigs...\n",
       "4       {'appId': 'za.co.twinc.a9letterjumble', 'appNa...\n",
       "                              ...                        \n",
       "4995    {'appId': 'org.iggymedia.periodtracker', 'appN...\n",
       "4996    {'appId': 'com.periodapp.period', 'appName': '...\n",
       "4997    {'appId': 'com.bm.android.thermometer', 'appNa...\n",
       "4998    {'appId': 'com.kiroglue.beingdad', 'appName': ...\n",
       "4999    {'appId': 'com.go.flo', 'appName': 'Period Tra...\n",
       "Name: json_element, Length: 5000, dtype: object"
      ]
     },
     "execution_count": 22,
     "metadata": {},
     "output_type": "execute_result"
    }
   ],
   "source": [
    "import json\n",
    "df_inter['json_element'].apply(json.loads)"
   ]
  },
  {
   "cell_type": "code",
   "execution_count": 46,
   "id": "provincial-leonard",
   "metadata": {},
   "outputs": [],
   "source": [
    "df_final = pd.json_normalize(df_inter['json_element'].apply(json.loads))"
   ]
  },
  {
   "cell_type": "code",
   "execution_count": 151,
   "id": "moved-egyptian",
   "metadata": {},
   "outputs": [
    {
     "name": "stdout",
     "output_type": "stream",
     "text": [
      "read the contents of your USB storage\n"
     ]
    }
   ],
   "source": [
    "Dangerous=['read the contents of your USB storage','modify or delete the contents of your USB storage']\n",
    "appList=[]\n",
    "temp=[]\n",
    "permissionList=[]\n"
   ]
  },
  {
   "cell_type": "code",
   "execution_count": 156,
   "id": "northern-program",
   "metadata": {},
   "outputs": [
    {
     "name": "stdout",
     "output_type": "stream",
     "text": [
      "Word Apart\n",
      "[{'permission': 'read the contents of your USB storage', 'type': 'Photos/Media/Files'}, {'permission': 'modify or delete the contents of your USB storage', 'type': 'Photos/Media/Files'}, {'permission': 'read the contents of your USB storage', 'type': 'Storage'}, {'permission': 'modify or delete the contents of your USB storage', 'type': 'Storage'}, {'permission': 'view Wi-Fi connections', 'type': 'Wi-Fi connection information'}, {'permission': 'view network connections', 'type': 'Other'}, {'permission': 'full network access', 'type': 'Other'}, {'permission': 'run at startup', 'type': 'Other'}, {'permission': 'control vibration', 'type': 'Other'}, {'permission': 'prevent device from sleeping', 'type': 'Other'}]\n",
      "read the contents of your USB storage 0\n",
      "modify or delete the contents of your USB storage 1\n",
      "read the contents of your USB storage 2\n",
      "modify or delete the contents of your USB storage 3\n",
      "view Wi-Fi connections 4\n",
      "view network connections 5\n",
      "full network access 6\n",
      "run at startup 7\n",
      "control vibration 8\n",
      "prevent device from sleeping 9\n",
      "True\n"
     ]
    }
   ],
   "source": [
    "for i in range(0,1):#from .jl jsonlines \n",
    "    print(df_final['appName'][i])\n",
    "    temp=df_final['allPermissions'][i]\n",
    "    print(temp)\n",
    "    for j in range(len(temp)):\n",
    "        print(temp[j]['permission'],j)\n",
    "        permissionList.append(temp[j]['permission'])\n",
    "    if Dangerous[0] in permissionList:\n",
    "        print(\"True\")\n",
    "        appList.append(df_final['appName'][i])\n",
    "        permissionList=[]"
   ]
  },
  {
   "cell_type": "code",
   "execution_count": 157,
   "id": "metric-complexity",
   "metadata": {},
   "outputs": [],
   "source": [
    "\n",
    "new_appList = []\n",
    "for elem in appList:\n",
    "    if elem not in new_appList:\n",
    "        new_appList.append(elem) "
   ]
  },
  {
   "cell_type": "code",
   "execution_count": 158,
   "id": "scheduled-payday",
   "metadata": {},
   "outputs": [
    {
     "name": "stdout",
     "output_type": "stream",
     "text": [
      "30\n"
     ]
    }
   ],
   "source": [
    "print(len(appList))"
   ]
  },
  {
   "cell_type": "code",
   "execution_count": null,
   "id": "korean-diesel",
   "metadata": {},
   "outputs": [],
   "source": []
  }
 ],
 "metadata": {
  "kernelspec": {
   "display_name": "Python 3",
   "language": "python",
   "name": "python3"
  },
  "language_info": {
   "codemirror_mode": {
    "name": "ipython",
    "version": 3
   },
   "file_extension": ".py",
   "mimetype": "text/x-python",
   "name": "python",
   "nbconvert_exporter": "python",
   "pygments_lexer": "ipython3",
   "version": "3.8.8"
  }
 },
 "nbformat": 4,
 "nbformat_minor": 5
}
