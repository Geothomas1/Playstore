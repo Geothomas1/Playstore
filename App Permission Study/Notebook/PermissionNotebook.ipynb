{
 "cells": [
  {
   "cell_type": "code",
   "execution_count": 42,
   "id": "civic-peripheral",
   "metadata": {},
   "outputs": [],
   "source": [
    "import pandas as pd \n",
    "import json\n",
    "import sentifish\n",
    "import requests\n",
    "import urllib\n",
    "import pprint\n",
    "import google_play_scraper\n",
    "from sentifish import Sentiment\n",
    "from google_play_scraper import app\n",
    "from google_play_scraper import Sort, reviews_all\n",
    "from google_play_scraper import permissions"
   ]
  },
  {
   "cell_type": "code",
   "execution_count": 2,
   "id": "contemporary-hardware",
   "metadata": {},
   "outputs": [],
   "source": [
    "with open('Data.jl') as f:\n",
    "    lines = f.read().splitlines()"
   ]
  },
  {
   "cell_type": "code",
   "execution_count": 3,
   "id": "stuck-motorcycle",
   "metadata": {},
   "outputs": [],
   "source": [
    "df_inter = pd.DataFrame(lines)\n",
    "df_inter.columns = ['json_element']"
   ]
  },
  {
   "cell_type": "code",
   "execution_count": 4,
   "id": "elect-belle",
   "metadata": {},
   "outputs": [
    {
     "name": "stdout",
     "output_type": "stream",
     "text": [
      "Index(['json_element'], dtype='object')\n"
     ]
    }
   ],
   "source": [
    "print(df_inter.columns)"
   ]
  },
  {
   "cell_type": "code",
   "execution_count": 5,
   "id": "recognized-remains",
   "metadata": {},
   "outputs": [
    {
     "data": {
      "text/plain": [
       "0       {'appId': 'com.casualgamefactory.wordapart', '...\n",
       "1       {'appId': 'com.noodlecake.typeshift', 'appName...\n",
       "2       {'appId': 'com.q42.ohno', 'appName': '0h n0', ...\n",
       "3       {'appId': 'com.finalgamestudio.aurora.hex.jigs...\n",
       "4       {'appId': 'za.co.twinc.a9letterjumble', 'appNa...\n",
       "                              ...                        \n",
       "9995    {'appId': 'com.simulationcurriculum.skysafari5...\n",
       "9996    {'appId': 'com.vitotechnology.StarWalk', 'appN...\n",
       "9997    {'appId': 'com.pa.lightpollutionmap', 'appName...\n",
       "9998    {'appId': 'com.escapistgames.starchartgoogleed...\n",
       "9999    {'appId': 'com.cgs.HiddenSurvivor', 'appName':...\n",
       "Name: json_element, Length: 10000, dtype: object"
      ]
     },
     "execution_count": 5,
     "metadata": {},
     "output_type": "execute_result"
    }
   ],
   "source": [
    "\n",
    "df_inter['json_element'].apply(json.loads)"
   ]
  },
  {
   "cell_type": "code",
   "execution_count": 6,
   "id": "provincial-leonard",
   "metadata": {},
   "outputs": [],
   "source": [
    "df_final = pd.json_normalize(df_inter['json_element'].apply(json.loads))"
   ]
  },
  {
   "cell_type": "markdown",
   "id": "certain-significance",
   "metadata": {},
   "source": [
    "# Zero Permission Apps Case Study"
   ]
  },
  {
   "cell_type": "code",
   "execution_count": 46,
   "id": "radical-title",
   "metadata": {},
   "outputs": [
    {
     "name": "stdout",
     "output_type": "stream",
     "text": [
      "['com.hyperionics.avarLic', 'org.coolreader.donation.silver', 'com.Hololive_Stickers', 'com.ginkage.ejlookup', 'com.joseluisgalan.android.chatstats', 'info.casualcomputing.sputter', 'com.piomusic.piomusicv', 'de.smartchord.droid.plug.cof', 'com.bsoft.asadkhan.maqamatalarabiya', 'online.astrotools.miroir3', 'com.rmsoft.myemdr', 'com.vlvolad.quantumoscillator', 'com.cranf.android.deepware.rupture', 'com.battery.lifespan.extender', 'com.cranf.android.quickonf.battery.free', 'southbridge.led_calculatorpro', 'jackpal.droidexaminer', 'com.scappyapps.fourthirtytwo', 'com.zebproj.etherpad', 'com.iforpowell.android.ipbikekey', 'de.khe.ringrechner', 'com.MikaMobile.Battleheart', 'ru.wellapp.bukvica', 'com.simplesoftwarestudio.troparions', 'com.simplesoftwarestudio.molitvoslov', 'com.medclever.pocketdoctor_free', 'com.simplesoftwarestudio.psaltyr', 'com.ovirium.simoron', 'com.pasanen.belarusbirds', 'com.nappsislamic.znaniia', 'com.faultexception.reader.pro', 'com.Waseem.muhammadusama.GeoEngineering', 'com.nstenterprises.tltheme.lcars', 'com.hidglobal.ia.token.generic', 'info.noahortega.bluecointracker', 'de.kai_morich.serial_usb_terminal', 'net.orbitingpluto.android.ipcalc', 'ginlemon.smartlauncher.bootfix', 'com.rapture.gospelhymnv2.app', 'com.korovan.kpass', 'cz.struharv.sudoku', 'de.mediaz.mxapp.hpbgeodefree', 'com.ratana.jazzcat.steampunkdroid', 'tester.app.permission.zero.zeropermissionapp', 'net.hobbyapplications.privacyscanner', 'com.samruston.permission', 'com.kodaslash.kodsla.warfameim', 'com.hidglobal.ia.token.albilad', 'air.EtCal', 'com.hidglobal.ia.token.combanketh', 'com.hidglobal.ia.token.boi', 'ru.chipenable.avrcalculator.free', 'com.hidglobal.ia.token.cbagroup', 'com.anu.developers3k.rootcheckerpro', 'com.system_administration_lite', 'com.JCrisp.HopStar', 'io.github.rlshep.bjcp2015beerstyles', 'com.tja.eletro_calc_pro', 'com.sis.ohmscalcpro', 'com.appdevgenie.rfcalculator', 'appdevgenie.ultimatecalculator', 'com.touchbyte.photosync.nas', 'ginlemon.sltheme.ubuntu', 'com.splashtop.streamer.addon.knox.legacy', 'com.luutinhit.mypink', 'com.dsi.ant.usbservice', 'de.dzapps.iso_system_din286_1', 'com.welmurr.ductulator', 'com.alphainventor.plugin.fileuri', 'net.cave.ecam', 'com.nulana.nchart3d.demo', 'com.gmail.mrqspeacock.destressme', 'mary.timerforstrel', 'com.points.trigger.center.salutem', 'com.nacosiren.blog.mogiciansmanual', 'com.dmitrykovba.maybebaby.initial', 'com.jb.gokeyboard.langpack.ar', 'com.dataviz.docstogoapp', 'it.drd.uuultimatemyplacekey', 'com.mwriterpro.moonwriterprokey', 'com.farmerbb.notepad', 'com.touchbyte.photosync.photoservices', 'com.touchbyte.photosync.fullfeatured', 'com.touchbyte.photosync.autotransfer', 'com.appybuilder.kontakt.Talk2You', 'com.simka.actionverite', 'com.xeen_software.bookoflife', 'com.jarvis_j.bookoffate', 'com.kocur.tabapp', 'com.androidandrew.totclock', 'com.urbandroid.lux.donate', 'net.wearefamily.readinglamp', 'com.fitness.a30daybuttlegchallenge', 'com.popularapp.periodcalendar.skin.holo.blue', 'com.popularapp.periodcalendar.skin.holo.green', 'com.kickinglettuce.gasplan', 'com.riseapps.fuellogs', 'com.riseapps.constructioncalculator', 'ru.sotnik.metallCalckPaid', 'org.zerocode.justexpenses', 'com.bishinew.calctaxvatgst', 'com.rkayapps.compoundinterestcalculatorpro', 'com.scientific.calculator', 'de.pheeren.wochentag_rechner', 'com.agadmator.chessclock', 'com.chess.clock', 'com.Wirraway.PacificFire', 'com.BeerMoneyGames.WWIIwallpaper', 'com.maxelus.spacecolonylivewallpaper', 'com.brucelet.spacetrader', 'oWApps.prontuario', 'ru.gamedevteam.hardboiled', 'com.minersidle3t.incrementalinc.minersidle3new', 'com.pyrogen.silmaris', 'com.aevumobscurum.androidworld', 'com.murudai.Solar2', 'com.cornago.fancywordsliding', 'tomkatcreative.gloomhavenenhancementcalc', 'ru.gonorovsky.kv.livewall.earthhddon', 'ru.gonorovsky.kv.livewall.earthhd', 'com.maxelus.planetspacklivewallpaper', 'gpaw.projects.space.asteroidwatch', 'com.CelestialDynamicsAG.connectedEarth', 'ru.gonorovsky.kv.livewall.solardeluxe']\n"
     ]
    }
   ],
   "source": [
    "#Zero Permission Apps from the take dataset\n",
    "zeroPermissionappList=[]\n",
    "for zeroApp in range(len(df_final)):\n",
    "    if len(df_final['allPermissions'][zeroApp])==0:\n",
    "        zeroPermissionappList.append(df_final['appId'][zeroApp])\n",
    "print(zeroPermissionappList)\n",
    "#This zero permission app that link to an external source or fake privacy policy permission"
   ]
  },
  {
   "cell_type": "code",
   "execution_count": 49,
   "id": "strong-dragon",
   "metadata": {},
   "outputs": [
    {
     "name": "stdout",
     "output_type": "stream",
     "text": [
      "124\n",
      "@Voice Premium License-Productivity\n",
      "Cool Reader Silver Donation-Tools\n",
      "Hololive Stickers-Communication\n",
      "EJLookup — Japanese Dictionary-Books & Reference\n",
      "Chat Stats for WhatsApp-Social\n",
      "Sputter Music Sequencer-Music & Audio\n",
      "PiOMuSiC-Education\n",
      "s.mart Circle of Fifths-Books & Reference\n",
      "Maqamat Al-Arabiya-Music & Audio\n",
      "COMPLETE ASTROLOGICAL PORTRAIT (an Astral Mirror)-Lifestyle\n",
      "My EMDR-Lifestyle\n",
      "Quantum Harmonic Oscillator-Education\n",
      "Deepware Rupture-Productivity\n",
      "Battery Lifespan Extender-Tools\n",
      "QuickONF Battery Widgets-Tools\n",
      "LED Calculator Pro-Tools\n",
      "Droid Examiner-Tools\n",
      "Binaural Chakra Therapy-Health & Fitness\n",
      "EtherSurface-Music & Audio\n",
      "IpBikeKey-Health & Fitness\n",
      "Shooting-Score-Calculator-Sports\n",
      "Battleheart-Role Playing\n",
      "Буквица древних Славян-Education\n",
      "Тропари православные-Books & Reference\n",
      "Молитвослов-Books & Reference\n",
      "Первая помощь - Карманный доктор (базовая версия)-Medical\n",
      "Псалтирь-Books & Reference\n",
      "Симорон, Ритуалы, Желания-Lifestyle\n",
      "Птицы Беларуси-Education\n",
      "ОБЯЗАТЕЛЬНЫЕ ЗНАНИЯ ДЛЯ МУСУЛЬМАНИНА И МУСУЛЬМАНКИ-Books & Reference\n",
      "Lithium Pro-Books & Reference\n",
      "GeoEngineering-Education\n",
      "✦ TREK ✦ Total Interface-Personalization\n",
      "ActivID Token-Business\n",
      "Blue Coin Tracker - Checklist & Collection Guide-Productivity\n",
      "Serial USB Terminal-Tools\n",
      "IP Network Calculator-Tools\n",
      "Default choice fixer for Smart Launcher-Libraries & Demo\n",
      "Gospel Hymn v3.5-Personalization\n",
      "KPass: password manager-Productivity\n",
      "Best Sudoku free-Puzzle\n",
      "World atlas & world map MxGeo-Education\n",
      "Steampunk Droid Live Wallpaper-Personalization\n",
      "Information Capabilities of a Zero Permission App-Tools\n",
      "Privacy Scanner (AntiSpy) Free-Tools\n",
      "Bouncer - Temporary App Permissions-Tools\n",
      "Prime Inventory Manager for Warframe-Tools\n",
      "AlBilad Token-Business\n",
      "Ethiopian Calendar-Productivity\n",
      "CBE Mobile Token-Business\n",
      "Bank of Ireland - KeyCode-Business\n",
      "AVR Calculator-Tools\n",
      "CBA Mobile Token-Business\n",
      "Advanced Root Checker Pro-Tools\n",
      "Системное Администрирование LITE-Education\n",
      "HopStar - Hops Navigator - Home Brewing Apps-Books & Reference\n",
      "BJCP 2015 Beer Styles-Books & Reference\n",
      "ElectroCalc PRO-Productivity\n",
      "Ohms Law Calculator Pro-Books & Reference\n",
      "RF Calculator-Education\n",
      "Ultimate Calculator-Education\n",
      "PhotoSync NAS Add-On-Photography\n",
      "SLT Ubuntu Style-Personalization\n",
      "Splashtop Add-on: Samsung (Knox legacy)-Tools\n",
      "XP Theme Beauty Pink Bear-Personalization\n",
      "ANT USB Service-Communication\n",
      "ISO Tolerances (DIN ISO 286-1)-Tools\n",
      "Ductulator-Tools\n",
      "File URI Plugin-Productivity\n",
      "ECAM Reset Pro-Tools\n",
      "NChart3D-Business\n",
      "De-StressMe: CBT Tools to Manage Stress-Health & Fitness\n",
      "Гимнастика Стрельниковой: таймер и упражнения-Health & Fitness\n",
      "Триггерные точки-Health & Fitness\n",
      "Mogician's Manual-Entertainment\n",
      "Period Tracker for Women: Menstrual Cycle Calendar-Health & Fitness\n",
      "Arabic Language - GO Keyboard-Tools\n",
      "Docs To Go™ Premium Key-Business\n",
      "My Customer PRO Key-Business\n",
      "Moon Writer Pro Key-Productivity\n",
      "Notepad-Productivity\n",
      "PhotoSync Cloud Add-On-Photography\n",
      "PhotoSync Bundle Add-On-Photography\n",
      "PhotoSync Autotransfer Add-On-Photography\n",
      "Talk2You: The Conversation Starter App for Couples-Lifestyle\n",
      "Truth or Dare Game 😈 Play with your friends-Entertainment\n",
      "Gypsy Wheel of Fortune-Lifestyle\n",
      "Book of Fate: Mystic Oracle-Lifestyle\n",
      "UriTrack-Medical\n",
      "Toddler Wake Clock-Lifestyle\n",
      "Twilight Pro Unlock-Health & Fitness\n",
      "Ad-Free Reading Lamp-Tools\n",
      "30 Day Butt & Legs Challenge-Health & Fitness\n",
      "Holo blue theme - Free-Tools\n",
      "Holo green theme-Tools\n",
      "Gas & Oil Tracker-Finance\n",
      "FuelLog: Mileage Tracker, Car Maintenance Log-Auto & Vehicles\n",
      "Construction Calculator for Concrete and Metal-Business\n",
      "Metal Calculator-Business\n",
      "Just Expenses™ Money Manager & Finance Tracker App-Finance\n",
      "Calculator - Tax, VAT, GST and Sales-Tools\n",
      "Loan & Interest Calculator Pro-Finance\n",
      "EzCalculators-Tools\n",
      "Weekday-Calculator-Tools\n",
      "Agadmator Chess Clock-Tools\n",
      "Chess Clock-Puzzle\n",
      "Pacific Fire-Strategy\n",
      "WWII Air Combat Live Wallpaper-Personalization\n",
      "Space Colony-Personalization\n",
      "Space Trader-Role Playing\n",
      "Oil Well Pipe Catalog-Productivity\n",
      "Hardboiled-Role Playing\n",
      "Miner's Idle 3 - Incremental Mining Game-Casual\n",
      "Silmaris - strategic boardgame and text adventures-Role Playing\n",
      "Age of Conquest: World-Strategy\n",
      "Solar 2-Simulation\n",
      "Fancy Word - Stylish Text-Personalization\n",
      "Gloomhaven Companion-Entertainment\n",
      "Earth HD Deluxe Edition-Personalization\n",
      "Earth HD Free Edition-Personalization\n",
      "Planets Pack 2.0-Personalization\n",
      "Asteroid Watch-Education\n",
      "Connected Earth-Education\n",
      "Solar System HD Deluxe Edition-Personalization\n"
     ]
    }
   ],
   "source": [
    "print(len(zeroPermissionappList))\n",
    "zeroPermissionappDict={}\n",
    "\n",
    "for app_id in zeroPermissionappList:\n",
    "    try:\n",
    "        getCategory = app(\n",
    "        app_id,\n",
    "        lang='en', # defaults to 'en'\n",
    "        country='us' # defaults to 'us'\n",
    "        )\n",
    "        \n",
    "\n",
    "        key=getCategory['title']\n",
    "        value=getCategory['genre']\n",
    "        print(key+\"-\"+value)\n",
    "        #create a key value pair of app Category and app Name\n",
    "        zeroPermissionappDict.update({key:value})\n",
    "    except urllib.error.HTTPError:\n",
    "        continue\n",
    "    except google_play_scraper.exceptions.NotFoundError:\n",
    "        continue\n",
    "    except AttributeError:\n",
    "        continue\n",
    "    except ValueError:\n",
    "        continue\n",
    "    except requests.exceptions.HTTPError:\n",
    "        continue\n",
    "    except google_play_scraper.exceptions.ExtraHTTPError:\n",
    "        continue\n",
    "\n",
    "    "
   ]
  },
  {
   "cell_type": "code",
   "execution_count": null,
   "id": "artistic-testament",
   "metadata": {},
   "outputs": [],
   "source": [
    "# collect zero Permission app from Social and Communcation as my study......\n",
    "socialAppList=[]\n",
    "communicationAppList=[]\n",
    "for name,category in zeroPermissionappDict.items():\n",
    "    if(category=='Communication'):\n",
    "        communicationAppList.append(name)\n",
    "    if(category=='Social'):\n",
    "        socialAppList.append(name)\n"
   ]
  },
  {
   "cell_type": "markdown",
   "id": "supreme-dealer",
   "metadata": {},
   "source": [
    "### Black List Apps From Zero Permissions.."
   ]
  },
  {
   "cell_type": "code",
   "execution_count": 64,
   "id": "stopped-biology",
   "metadata": {},
   "outputs": [
    {
     "name": "stdout",
     "output_type": "stream",
     "text": [
      "*****************Communication Apps**************\n",
      "Hololive Stickers\n",
      "ANT USB Service\n",
      "*****************Socail Apps*********************\n",
      "Chat Stats for WhatsApp\n"
     ]
    }
   ],
   "source": [
    "print(\"*****************Communication Apps**************\")\n",
    "for i in communicationAppList:\n",
    "    print(i)\n",
    "print(\"*****************Socail Apps*********************\")\n",
    "for j in socialAppList:\n",
    "    print(j)"
   ]
  },
  {
   "cell_type": "markdown",
   "id": "historical-edwards",
   "metadata": {},
   "source": [
    "# Most Dangerous Permission Apps Case Study"
   ]
  },
  {
   "cell_type": "code",
   "execution_count": 25,
   "id": "acknowledged-method",
   "metadata": {},
   "outputs": [
    {
     "name": "stdout",
     "output_type": "stream",
     "text": [
      "['ru.agc.acontactnexttrial', 'net.soti.mobicontrol.androidwork', 'net.dinglisch.android.taskerm', 'com.huawei.health']\n"
     ]
    }
   ],
   "source": [
    "Dangerous=['directly call phone numbers','read call log','read phone status and identity','read sensitive log data','retrieve running apps','delete all app cache data']\n",
    "appList=[]\n",
    "temp=[]\n",
    "permissionList=[]\n",
    "#Generate the list of apps that access all the above list of  dangerous permissions\n",
    "\n",
    "for i in range(len(df_final)):#from .jl jsonlines \n",
    "    #print(df_final['appName'][i])\n",
    "    temp=df_final['allPermissions'][i]\n",
    "    #print(temp)\n",
    "    for j in range(len(temp)):\n",
    "        #print(temp[j]['permission'],j)\n",
    "        permissionList.append(temp[j]['permission'])\n",
    "    if Dangerous[0] in permissionList and Dangerous[1] in permissionList and Dangerous[2] in permissionList and Dangerous[3] in permissionList and Dangerous[4] in permissionList:\n",
    "        appList.append(df_final['appId'][i])\n",
    "        permissionList=[]\n",
    "        temp=[]\n",
    "    else:\n",
    "        permissionList=[]\n",
    "        temp=[]\n",
    "#print(appList)\n",
    "new_appList = []\n",
    "for elem in appList:\n",
    "    if elem not in new_appList:\n",
    "        new_appList.append(elem) \n",
    "print(new_appList)"
   ]
  },
  {
   "cell_type": "code",
   "execution_count": 27,
   "id": "plain-receiver",
   "metadata": {},
   "outputs": [],
   "source": [
    "dangerousDict={}\n",
    "for app_id in new_appList:\n",
    "    getCategory = app(\n",
    "    app_id,\n",
    "    lang='en', # defaults to 'en'\n",
    "    country='us' # defaults to 'us'\n",
    "    )\n",
    "    key=getCategory['title']\n",
    "    value=getCategory['genre']\n",
    "    dangerousDict.update({key:value})"
   ]
  },
  {
   "cell_type": "code",
   "execution_count": 44,
   "id": "beginning-mountain",
   "metadata": {},
   "outputs": [
    {
     "name": "stdout",
     "output_type": "stream",
     "text": [
      "{'Huawei Health': 'Health & Fitness',\n",
      " 'MobiControl | Android Enterprise': 'Business',\n",
      " 'Phone and Contacts - AGContacts, Lite edition': 'Communication',\n",
      " 'Tasker': 'Tools'}\n"
     ]
    }
   ],
   "source": [
    " pprint.pprint(dangerousDict)"
   ]
  },
  {
   "cell_type": "code",
   "execution_count": 45,
   "id": "quick-dollar",
   "metadata": {},
   "outputs": [],
   "source": [
    "permissionFullList=[]\n",
    "for app_id in new_appList:\n",
    "    result = permissions(\n",
    "    app_id,\n",
    "    lang='en', # defaults to 'en'\n",
    "    country='us', # defaults to 'us'\n",
    "    )\n",
    "    permissionFullList.append(result)   "
   ]
  },
  {
   "cell_type": "code",
   "execution_count": 105,
   "id": "challenging-dutch",
   "metadata": {},
   "outputs": [
    {
     "name": "stdout",
     "output_type": "stream",
     "text": [
      "{'Calendar': ['read calendar events plus confidential information'],\n",
      " 'Contacts': ['find accounts on the device',\n",
      "              'modify your contacts',\n",
      "              'read your contacts'],\n",
      " 'Device & app history': ['read sensitive log data', 'retrieve running apps'],\n",
      " 'Device ID & call information': ['read phone status and identity'],\n",
      " 'Identity': ['add or remove accounts',\n",
      "              'find accounts on the device',\n",
      "              'modify your own contact card',\n",
      "              'read your own contact card'],\n",
      " 'Microphone': ['record audio'],\n",
      " 'Other': ['change your audio settings',\n",
      "           'control Near Field Communication',\n",
      "           'control vibration',\n",
      "           'full network access',\n",
      "           'install shortcuts',\n",
      "           'prevent device from sleeping',\n",
      "           'read sync settings',\n",
      "           'run at startup',\n",
      "           'send sticky broadcast',\n",
      "           'toggle sync on and off',\n",
      "           'use accounts on the device',\n",
      "           'view network connections'],\n",
      " 'Phone': ['directly call phone numbers',\n",
      "           'read call log',\n",
      "           'read phone status and identity',\n",
      "           'reroute outgoing calls',\n",
      "           'write call log'],\n",
      " 'Photos/Media/Files': ['modify or delete the contents of your USB storage',\n",
      "                        'read the contents of your USB storage'],\n",
      " 'Storage': ['modify or delete the contents of your USB storage',\n",
      "             'read the contents of your USB storage'],\n",
      " 'Uncategorized': ['read precise phone states'],\n",
      " 'Wi-Fi connection information': ['view Wi-Fi connections']}\n"
     ]
    }
   ],
   "source": [
    "pprint.pprint(permissionFullList[0])"
   ]
  },
  {
   "cell_type": "code",
   "execution_count": 134,
   "id": "colonial-doctor",
   "metadata": {},
   "outputs": [
    {
     "name": "stdout",
     "output_type": "stream",
     "text": [
      "\u001b[1m APP NAME : \u001b[0m Phone and Contacts - AGContacts, Lite edition\n",
      "\n",
      "\n",
      "\u001b[1m APP NAME : \u001b[0m MobiControl | Android Enterprise\n",
      "\n",
      "\n",
      "\u001b[1m APP NAME : \u001b[0m Tasker\n",
      "\n",
      "\n",
      "\u001b[1m APP NAME : \u001b[0m Huawei Health\n",
      "\n",
      "\n",
      "\u001b[1m Name     Count  \u001b[0m\n",
      "Phone 5\n",
      "Photos/Media/Files 2\n",
      "Contacts 3\n",
      "Device & app history 2\n",
      "Identity 4\n",
      "Calendar 1\n",
      "Storage 2\n",
      "Microphone 1\n",
      "Wi-Fi connection information 1\n",
      "Device ID & call information 1\n",
      "Other 12\n",
      "Uncategorized 1\n",
      "\u001b[1m Total Permission:\u001b[0m 35\n",
      "\n",
      "\n",
      "\u001b[1m Name     Count  \u001b[0m\n",
      "Wi-Fi connection information 1\n",
      "Cellular data settings 1\n",
      "Photos/Media/Files 4\n",
      "Device ID & call information 1\n",
      "Phone 5\n",
      "Location 1\n",
      "Device & app history 2\n",
      "Contacts 3\n",
      "Identity 3\n",
      "Camera 1\n",
      "Microphone 1\n",
      "Storage 2\n",
      "Other 29\n",
      "Uncategorized 37\n",
      "\u001b[1m Total Permission:\u001b[0m 91\n",
      "\n",
      "\n",
      "\u001b[1m Name     Count  \u001b[0m\n",
      "Phone 6\n",
      "Photos/Media/Files 2\n",
      "SMS 4\n",
      "Device ID & call information 1\n",
      "Contacts 2\n",
      "Storage 2\n",
      "Wi-Fi connection information 1\n",
      "Microphone 1\n",
      "Wearable sensors/Activity data 1\n",
      "Camera 1\n",
      "Calendar 2\n",
      "Device & app history 3\n",
      "Location 2\n",
      "Other 25\n",
      "Uncategorized 7\n",
      "\u001b[1m Total Permission:\u001b[0m 60\n",
      "\n",
      "\n",
      "\u001b[1m Name     Count  \u001b[0m\n",
      "Device & app history 3\n",
      "Identity 2\n",
      "Contacts 2\n",
      "Location 2\n",
      "Phone 5\n",
      "Photos/Media/Files 3\n",
      "Storage 2\n",
      "Camera 1\n",
      "Microphone 1\n",
      "Wi-Fi connection information 1\n",
      "Device ID & call information 1\n",
      "Other 20\n",
      "Uncategorized 2\n",
      "\u001b[1m Total Permission:\u001b[0m 45\n",
      "\n",
      "\n"
     ]
    }
   ],
   "source": [
    "for key,value in dangerousDict.items():\n",
    "    print(\"\\033[1m APP NAME : \\033[0m \"+key)\n",
    "    print(\"\\n\")\n",
    "for index in permissionFullList:\n",
    "    totalCount=0\n",
    "    print(\"\\033[1m Name    \",\"Count  \\033[0m\")\n",
    "    for i,j in index.items():\n",
    "        totalCount+=len(j)\n",
    "        print (i+\" \"+str(len(j)))\n",
    "    print(\"\\033[1m Total Permission:\\033[0m\",totalCount)\n",
    "    print(\"\\n\")"
   ]
  },
  {
   "cell_type": "code",
   "execution_count": null,
   "id": "blank-extraction",
   "metadata": {},
   "outputs": [],
   "source": [
    "\n",
    "    "
   ]
  },
  {
   "cell_type": "code",
   "execution_count": null,
   "id": "incomplete-writer",
   "metadata": {},
   "outputs": [],
   "source": []
  },
  {
   "cell_type": "code",
   "execution_count": null,
   "id": "great-modem",
   "metadata": {},
   "outputs": [],
   "source": []
  },
  {
   "cell_type": "code",
   "execution_count": null,
   "id": "expired-oliver",
   "metadata": {},
   "outputs": [],
   "source": []
  },
  {
   "cell_type": "code",
   "execution_count": null,
   "id": "statutory-reservation",
   "metadata": {},
   "outputs": [],
   "source": [
    "\n",
    "\n",
    "    \n",
    "    "
   ]
  },
  {
   "cell_type": "code",
   "execution_count": null,
   "id": "wanted-brook",
   "metadata": {},
   "outputs": [],
   "source": []
  },
  {
   "cell_type": "code",
   "execution_count": null,
   "id": "breeding-audience",
   "metadata": {},
   "outputs": [],
   "source": []
  },
  {
   "cell_type": "code",
   "execution_count": null,
   "id": "crazy-falls",
   "metadata": {},
   "outputs": [],
   "source": []
  },
  {
   "cell_type": "code",
   "execution_count": null,
   "id": "aerial-pantyhose",
   "metadata": {},
   "outputs": [],
   "source": [
    "\n"
   ]
  },
  {
   "cell_type": "code",
   "execution_count": null,
   "id": "useful-geology",
   "metadata": {},
   "outputs": [],
   "source": []
  },
  {
   "cell_type": "code",
   "execution_count": null,
   "id": "floppy-simple",
   "metadata": {},
   "outputs": [],
   "source": []
  }
 ],
 "metadata": {
  "kernelspec": {
   "display_name": "Python 3",
   "language": "python",
   "name": "python3"
  },
  "language_info": {
   "codemirror_mode": {
    "name": "ipython",
    "version": 3
   },
   "file_extension": ".py",
   "mimetype": "text/x-python",
   "name": "python",
   "nbconvert_exporter": "python",
   "pygments_lexer": "ipython3",
   "version": "3.8.8"
  }
 },
 "nbformat": 4,
 "nbformat_minor": 5
}
