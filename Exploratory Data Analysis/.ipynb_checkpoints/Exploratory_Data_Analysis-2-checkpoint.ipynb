{
 "cells": [
  {
   "cell_type": "code",
   "execution_count": 2,
   "id": "recorded-label",
   "metadata": {},
   "outputs": [
    {
     "data": {
      "text/html": [
       "<div>\n",
       "<style scoped>\n",
       "    .dataframe tbody tr th:only-of-type {\n",
       "        vertical-align: middle;\n",
       "    }\n",
       "\n",
       "    .dataframe tbody tr th {\n",
       "        vertical-align: top;\n",
       "    }\n",
       "\n",
       "    .dataframe thead th {\n",
       "        text-align: right;\n",
       "    }\n",
       "</style>\n",
       "<table border=\"1\" class=\"dataframe\">\n",
       "  <thead>\n",
       "    <tr style=\"text-align: right;\">\n",
       "      <th></th>\n",
       "      <th>App Name</th>\n",
       "      <th>App Id</th>\n",
       "      <th>Category</th>\n",
       "      <th>Rating</th>\n",
       "      <th>Rating Count</th>\n",
       "      <th>Installs</th>\n",
       "      <th>Minimum Installs</th>\n",
       "      <th>Free</th>\n",
       "      <th>Price</th>\n",
       "      <th>Currency</th>\n",
       "      <th>...</th>\n",
       "      <th>Ad Supported</th>\n",
       "      <th>In app purchases</th>\n",
       "      <th>Editor Choice</th>\n",
       "      <th>Summary</th>\n",
       "      <th>Reviews</th>\n",
       "      <th>Android version Text</th>\n",
       "      <th>Developer</th>\n",
       "      <th>Developer Address</th>\n",
       "      <th>Developer Internal ID</th>\n",
       "      <th>Version</th>\n",
       "    </tr>\n",
       "  </thead>\n",
       "  <tbody>\n",
       "    <tr>\n",
       "      <th>0</th>\n",
       "      <td>Logistics Management</td>\n",
       "      <td>com.eniseistudio.logistics_management</td>\n",
       "      <td>Education</td>\n",
       "      <td>4.090909</td>\n",
       "      <td>66.0</td>\n",
       "      <td>10,000+</td>\n",
       "      <td>10000.0</td>\n",
       "      <td>True</td>\n",
       "      <td>0.0</td>\n",
       "      <td>USD</td>\n",
       "      <td>...</td>\n",
       "      <td>True</td>\n",
       "      <td>False</td>\n",
       "      <td>False</td>\n",
       "      <td>Leading Online Learning and Training System in...</td>\n",
       "      <td>28.0</td>\n",
       "      <td>4.0 and up</td>\n",
       "      <td>eniseistudio</td>\n",
       "      <td>7115 N Muscatel Ave San Gabriel, CA 91775 Unit...</td>\n",
       "      <td>4.656447e+18</td>\n",
       "      <td>1.1.5</td>\n",
       "    </tr>\n",
       "    <tr>\n",
       "      <th>1</th>\n",
       "      <td>Estados Unidos Noticias</td>\n",
       "      <td>com.eniseistudio.news.estados_unidos</td>\n",
       "      <td>News &amp; Magazines</td>\n",
       "      <td>4.000000</td>\n",
       "      <td>8.0</td>\n",
       "      <td>1,000+</td>\n",
       "      <td>1000.0</td>\n",
       "      <td>True</td>\n",
       "      <td>0.0</td>\n",
       "      <td>USD</td>\n",
       "      <td>...</td>\n",
       "      <td>True</td>\n",
       "      <td>False</td>\n",
       "      <td>False</td>\n",
       "      <td>Top Stories\\r\\nWorld\\r\\nEntertainment\\r\\nSport...</td>\n",
       "      <td>3.0</td>\n",
       "      <td>4.0 and up</td>\n",
       "      <td>eniseistudio</td>\n",
       "      <td>7115 N Muscatel Ave San Gabriel, CA 91775 Unit...</td>\n",
       "      <td>4.656447e+18</td>\n",
       "      <td>1.2.3</td>\n",
       "    </tr>\n",
       "    <tr>\n",
       "      <th>2</th>\n",
       "      <td>Dental Assistant</td>\n",
       "      <td>com.eniseistudio.dental_assistant</td>\n",
       "      <td>Education</td>\n",
       "      <td>3.866667</td>\n",
       "      <td>15.0</td>\n",
       "      <td>10,000+</td>\n",
       "      <td>10000.0</td>\n",
       "      <td>True</td>\n",
       "      <td>0.0</td>\n",
       "      <td>USD</td>\n",
       "      <td>...</td>\n",
       "      <td>True</td>\n",
       "      <td>False</td>\n",
       "      <td>False</td>\n",
       "      <td>Dental Assistant: Study Dental Assistant, Dent...</td>\n",
       "      <td>3.0</td>\n",
       "      <td>4.0 and up</td>\n",
       "      <td>eniseistudio</td>\n",
       "      <td>7115 N Muscatel Ave San Gabriel, CA 91775 Unit...</td>\n",
       "      <td>4.656447e+18</td>\n",
       "      <td>1.1.5</td>\n",
       "    </tr>\n",
       "    <tr>\n",
       "      <th>3</th>\n",
       "      <td>Medical Assistant</td>\n",
       "      <td>com.eniseistudio.course.medical_assistant</td>\n",
       "      <td>Education</td>\n",
       "      <td>4.000000</td>\n",
       "      <td>18.0</td>\n",
       "      <td>5,000+</td>\n",
       "      <td>5000.0</td>\n",
       "      <td>True</td>\n",
       "      <td>0.0</td>\n",
       "      <td>USD</td>\n",
       "      <td>...</td>\n",
       "      <td>True</td>\n",
       "      <td>False</td>\n",
       "      <td>False</td>\n",
       "      <td>Medical Assistant Degree Medical Assistant Job...</td>\n",
       "      <td>7.0</td>\n",
       "      <td>4.0 and up</td>\n",
       "      <td>eniseistudio</td>\n",
       "      <td>7115 N Muscatel Ave San Gabriel, CA 91775 Unit...</td>\n",
       "      <td>4.656447e+18</td>\n",
       "      <td>1.1.4</td>\n",
       "    </tr>\n",
       "    <tr>\n",
       "      <th>4</th>\n",
       "      <td>Business Administration</td>\n",
       "      <td>com.eniseistudio.majors.course.business_admini...</td>\n",
       "      <td>Education</td>\n",
       "      <td>4.023256</td>\n",
       "      <td>86.0</td>\n",
       "      <td>50,000+</td>\n",
       "      <td>50000.0</td>\n",
       "      <td>True</td>\n",
       "      <td>0.0</td>\n",
       "      <td>USD</td>\n",
       "      <td>...</td>\n",
       "      <td>True</td>\n",
       "      <td>False</td>\n",
       "      <td>False</td>\n",
       "      <td>Business Administration Learning, Business Adm...</td>\n",
       "      <td>29.0</td>\n",
       "      <td>4.0 and up</td>\n",
       "      <td>eniseistudio</td>\n",
       "      <td>7115 N Muscatel Ave San Gabriel, CA 91775 Unit...</td>\n",
       "      <td>4.656447e+18</td>\n",
       "      <td>1.1.6</td>\n",
       "    </tr>\n",
       "  </tbody>\n",
       "</table>\n",
       "<p>5 rows × 29 columns</p>\n",
       "</div>"
      ],
      "text/plain": [
       "                  App Name                                             App Id  \\\n",
       "0     Logistics Management              com.eniseistudio.logistics_management   \n",
       "1  Estados Unidos Noticias               com.eniseistudio.news.estados_unidos   \n",
       "2         Dental Assistant                  com.eniseistudio.dental_assistant   \n",
       "3        Medical Assistant          com.eniseistudio.course.medical_assistant   \n",
       "4  Business Administration  com.eniseistudio.majors.course.business_admini...   \n",
       "\n",
       "           Category    Rating  Rating Count Installs  Minimum Installs  Free  \\\n",
       "0         Education  4.090909          66.0  10,000+           10000.0  True   \n",
       "1  News & Magazines  4.000000           8.0   1,000+            1000.0  True   \n",
       "2         Education  3.866667          15.0  10,000+           10000.0  True   \n",
       "3         Education  4.000000          18.0   5,000+            5000.0  True   \n",
       "4         Education  4.023256          86.0  50,000+           50000.0  True   \n",
       "\n",
       "   Price Currency  ... Ad Supported In app purchases Editor Choice  \\\n",
       "0    0.0      USD  ...         True            False         False   \n",
       "1    0.0      USD  ...         True            False         False   \n",
       "2    0.0      USD  ...         True            False         False   \n",
       "3    0.0      USD  ...         True            False         False   \n",
       "4    0.0      USD  ...         True            False         False   \n",
       "\n",
       "                                             Summary Reviews  \\\n",
       "0  Leading Online Learning and Training System in...    28.0   \n",
       "1  Top Stories\\r\\nWorld\\r\\nEntertainment\\r\\nSport...     3.0   \n",
       "2  Dental Assistant: Study Dental Assistant, Dent...     3.0   \n",
       "3  Medical Assistant Degree Medical Assistant Job...     7.0   \n",
       "4  Business Administration Learning, Business Adm...    29.0   \n",
       "\n",
       "  Android version Text     Developer  \\\n",
       "0           4.0 and up  eniseistudio   \n",
       "1           4.0 and up  eniseistudio   \n",
       "2           4.0 and up  eniseistudio   \n",
       "3           4.0 and up  eniseistudio   \n",
       "4           4.0 and up  eniseistudio   \n",
       "\n",
       "                                   Developer Address Developer Internal ID  \\\n",
       "0  7115 N Muscatel Ave San Gabriel, CA 91775 Unit...          4.656447e+18   \n",
       "1  7115 N Muscatel Ave San Gabriel, CA 91775 Unit...          4.656447e+18   \n",
       "2  7115 N Muscatel Ave San Gabriel, CA 91775 Unit...          4.656447e+18   \n",
       "3  7115 N Muscatel Ave San Gabriel, CA 91775 Unit...          4.656447e+18   \n",
       "4  7115 N Muscatel Ave San Gabriel, CA 91775 Unit...          4.656447e+18   \n",
       "\n",
       "  Version  \n",
       "0   1.1.5  \n",
       "1   1.2.3  \n",
       "2   1.1.5  \n",
       "3   1.1.4  \n",
       "4   1.1.6  \n",
       "\n",
       "[5 rows x 29 columns]"
      ]
     },
     "execution_count": 2,
     "metadata": {},
     "output_type": "execute_result"
    }
   ],
   "source": [
    "import pandas as pd\n",
    "from sklearn.preprocessing import LabelEncoder\n",
    "from currency_converter import CurrencyConverter\n",
    "import matplotlib.pyplot as plt\n",
    "import seaborn as sns\n",
    "import warnings\n",
    "from sklearn.preprocessing import LabelEncoder\n",
    "from sklearn.metrics import r2_score\n",
    "from sklearn.linear_model import LinearRegression\n",
    "from sklearn.tree import DecisionTreeRegressor\n",
    "from sklearn.ensemble import  RandomForestRegressor\n",
    "#from keras.layers import Dense,BatchNormalization,Flatten\n",
    "#from keras.models import Sequential\n",
    "#import keras\n",
    "#from keras.metrics import mean_absolute_error\n",
    "warnings.filterwarnings('ignore')\n",
    "playstore=pd.read_csv('dataset.csv')\n",
    "playstore.head(5)"
   ]
  },
  {
   "cell_type": "code",
   "execution_count": 3,
   "id": "fifth-ground",
   "metadata": {},
   "outputs": [
    {
     "data": {
      "text/html": [
       "<div>\n",
       "<style scoped>\n",
       "    .dataframe tbody tr th:only-of-type {\n",
       "        vertical-align: middle;\n",
       "    }\n",
       "\n",
       "    .dataframe tbody tr th {\n",
       "        vertical-align: top;\n",
       "    }\n",
       "\n",
       "    .dataframe thead th {\n",
       "        text-align: right;\n",
       "    }\n",
       "</style>\n",
       "<table border=\"1\" class=\"dataframe\">\n",
       "  <thead>\n",
       "    <tr style=\"text-align: right;\">\n",
       "      <th></th>\n",
       "      <th>Rating</th>\n",
       "      <th>Rating Count</th>\n",
       "      <th>Minimum Installs</th>\n",
       "      <th>Price</th>\n",
       "      <th>Reviews</th>\n",
       "      <th>Developer Internal ID</th>\n",
       "    </tr>\n",
       "  </thead>\n",
       "  <tbody>\n",
       "    <tr>\n",
       "      <th>count</th>\n",
       "      <td>123496.000000</td>\n",
       "      <td>8.876100e+04</td>\n",
       "      <td>1.245800e+05</td>\n",
       "      <td>124508.000000</td>\n",
       "      <td>1.234960e+05</td>\n",
       "      <td>1.245800e+05</td>\n",
       "    </tr>\n",
       "    <tr>\n",
       "      <th>mean</th>\n",
       "      <td>2.964190</td>\n",
       "      <td>3.182438e+04</td>\n",
       "      <td>1.631095e+06</td>\n",
       "      <td>0.291912</td>\n",
       "      <td>8.170749e+03</td>\n",
       "      <td>6.926441e+18</td>\n",
       "    </tr>\n",
       "    <tr>\n",
       "      <th>std</th>\n",
       "      <td>1.907904</td>\n",
       "      <td>5.906035e+05</td>\n",
       "      <td>4.938170e+07</td>\n",
       "      <td>3.073606</td>\n",
       "      <td>1.864213e+05</td>\n",
       "      <td>1.357545e+18</td>\n",
       "    </tr>\n",
       "    <tr>\n",
       "      <th>min</th>\n",
       "      <td>0.000000</td>\n",
       "      <td>5.000000e+00</td>\n",
       "      <td>0.000000e+00</td>\n",
       "      <td>0.000000</td>\n",
       "      <td>0.000000e+00</td>\n",
       "      <td>4.612309e+18</td>\n",
       "    </tr>\n",
       "    <tr>\n",
       "      <th>25%</th>\n",
       "      <td>0.000000</td>\n",
       "      <td>2.500000e+01</td>\n",
       "      <td>1.000000e+02</td>\n",
       "      <td>0.000000</td>\n",
       "      <td>0.000000e+00</td>\n",
       "      <td>5.746679e+18</td>\n",
       "    </tr>\n",
       "    <tr>\n",
       "      <th>50%</th>\n",
       "      <td>3.950000</td>\n",
       "      <td>1.540000e+02</td>\n",
       "      <td>5.000000e+03</td>\n",
       "      <td>0.000000</td>\n",
       "      <td>1.500000e+01</td>\n",
       "      <td>6.912364e+18</td>\n",
       "    </tr>\n",
       "    <tr>\n",
       "      <th>75%</th>\n",
       "      <td>4.371429</td>\n",
       "      <td>1.720000e+03</td>\n",
       "      <td>1.000000e+05</td>\n",
       "      <td>0.000000</td>\n",
       "      <td>2.310000e+02</td>\n",
       "      <td>8.130049e+18</td>\n",
       "    </tr>\n",
       "    <tr>\n",
       "      <th>max</th>\n",
       "      <td>5.000000</td>\n",
       "      <td>1.080669e+08</td>\n",
       "      <td>5.000000e+09</td>\n",
       "      <td>399.990000</td>\n",
       "      <td>3.799872e+07</td>\n",
       "      <td>9.223355e+18</td>\n",
       "    </tr>\n",
       "  </tbody>\n",
       "</table>\n",
       "</div>"
      ],
      "text/plain": [
       "              Rating  Rating Count  Minimum Installs          Price  \\\n",
       "count  123496.000000  8.876100e+04      1.245800e+05  124508.000000   \n",
       "mean        2.964190  3.182438e+04      1.631095e+06       0.291912   \n",
       "std         1.907904  5.906035e+05      4.938170e+07       3.073606   \n",
       "min         0.000000  5.000000e+00      0.000000e+00       0.000000   \n",
       "25%         0.000000  2.500000e+01      1.000000e+02       0.000000   \n",
       "50%         3.950000  1.540000e+02      5.000000e+03       0.000000   \n",
       "75%         4.371429  1.720000e+03      1.000000e+05       0.000000   \n",
       "max         5.000000  1.080669e+08      5.000000e+09     399.990000   \n",
       "\n",
       "            Reviews  Developer Internal ID  \n",
       "count  1.234960e+05           1.245800e+05  \n",
       "mean   8.170749e+03           6.926441e+18  \n",
       "std    1.864213e+05           1.357545e+18  \n",
       "min    0.000000e+00           4.612309e+18  \n",
       "25%    0.000000e+00           5.746679e+18  \n",
       "50%    1.500000e+01           6.912364e+18  \n",
       "75%    2.310000e+02           8.130049e+18  \n",
       "max    3.799872e+07           9.223355e+18  "
      ]
     },
     "execution_count": 3,
     "metadata": {},
     "output_type": "execute_result"
    }
   ],
   "source": [
    "playstore.describe()"
   ]
  },
  {
   "cell_type": "code",
   "execution_count": 4,
   "id": "authentic-microwave",
   "metadata": {},
   "outputs": [
    {
     "data": {
      "text/html": [
       "<div>\n",
       "<style scoped>\n",
       "    .dataframe tbody tr th:only-of-type {\n",
       "        vertical-align: middle;\n",
       "    }\n",
       "\n",
       "    .dataframe tbody tr th {\n",
       "        vertical-align: top;\n",
       "    }\n",
       "\n",
       "    .dataframe thead th {\n",
       "        text-align: right;\n",
       "    }\n",
       "</style>\n",
       "<table border=\"1\" class=\"dataframe\">\n",
       "  <thead>\n",
       "    <tr style=\"text-align: right;\">\n",
       "      <th></th>\n",
       "      <th>App Name</th>\n",
       "      <th>App Id</th>\n",
       "      <th>Category</th>\n",
       "      <th>Rating</th>\n",
       "      <th>Rating Count</th>\n",
       "      <th>Installs</th>\n",
       "      <th>Minimum Installs</th>\n",
       "      <th>Free</th>\n",
       "      <th>Price</th>\n",
       "      <th>Currency</th>\n",
       "      <th>...</th>\n",
       "      <th>Ad Supported</th>\n",
       "      <th>In app purchases</th>\n",
       "      <th>Editor Choice</th>\n",
       "      <th>Summary</th>\n",
       "      <th>Reviews</th>\n",
       "      <th>Android version Text</th>\n",
       "      <th>Developer</th>\n",
       "      <th>Developer Address</th>\n",
       "      <th>Developer Internal ID</th>\n",
       "      <th>Version</th>\n",
       "    </tr>\n",
       "  </thead>\n",
       "  <tbody>\n",
       "    <tr>\n",
       "      <th>count</th>\n",
       "      <td>124580</td>\n",
       "      <td>124588</td>\n",
       "      <td>124580</td>\n",
       "      <td>123496.000000</td>\n",
       "      <td>8.876100e+04</td>\n",
       "      <td>124509</td>\n",
       "      <td>1.245800e+05</td>\n",
       "      <td>124508</td>\n",
       "      <td>124508.000000</td>\n",
       "      <td>124508</td>\n",
       "      <td>...</td>\n",
       "      <td>95998</td>\n",
       "      <td>124588</td>\n",
       "      <td>124588</td>\n",
       "      <td>124561</td>\n",
       "      <td>1.234960e+05</td>\n",
       "      <td>124320</td>\n",
       "      <td>124580</td>\n",
       "      <td>91535</td>\n",
       "      <td>1.245800e+05</td>\n",
       "      <td>124513</td>\n",
       "    </tr>\n",
       "    <tr>\n",
       "      <th>unique</th>\n",
       "      <td>121460</td>\n",
       "      <td>124588</td>\n",
       "      <td>48</td>\n",
       "      <td>NaN</td>\n",
       "      <td>NaN</td>\n",
       "      <td>21</td>\n",
       "      <td>NaN</td>\n",
       "      <td>2</td>\n",
       "      <td>NaN</td>\n",
       "      <td>38</td>\n",
       "      <td>...</td>\n",
       "      <td>1</td>\n",
       "      <td>2</td>\n",
       "      <td>2</td>\n",
       "      <td>117417</td>\n",
       "      <td>NaN</td>\n",
       "      <td>47</td>\n",
       "      <td>9450</td>\n",
       "      <td>7131</td>\n",
       "      <td>NaN</td>\n",
       "      <td>10778</td>\n",
       "    </tr>\n",
       "    <tr>\n",
       "      <th>top</th>\n",
       "      <td>Solitaire</td>\n",
       "      <td>com.samsung.ref</td>\n",
       "      <td>Education</td>\n",
       "      <td>NaN</td>\n",
       "      <td>NaN</td>\n",
       "      <td>10,000+</td>\n",
       "      <td>NaN</td>\n",
       "      <td>True</td>\n",
       "      <td>NaN</td>\n",
       "      <td>USD</td>\n",
       "      <td>...</td>\n",
       "      <td>True</td>\n",
       "      <td>False</td>\n",
       "      <td>False</td>\n",
       "      <td>Download and enjoy your new application totall...</td>\n",
       "      <td>NaN</td>\n",
       "      <td>4.1 and up</td>\n",
       "      <td>2Thumbz, Inc</td>\n",
       "      <td>EduGorilla Community Pvt. Ltd\\n12/651, First F...</td>\n",
       "      <td>NaN</td>\n",
       "      <td>1</td>\n",
       "    </tr>\n",
       "    <tr>\n",
       "      <th>freq</th>\n",
       "      <td>35</td>\n",
       "      <td>1</td>\n",
       "      <td>13551</td>\n",
       "      <td>NaN</td>\n",
       "      <td>NaN</td>\n",
       "      <td>18740</td>\n",
       "      <td>NaN</td>\n",
       "      <td>115712</td>\n",
       "      <td>NaN</td>\n",
       "      <td>107811</td>\n",
       "      <td>...</td>\n",
       "      <td>95998</td>\n",
       "      <td>89091</td>\n",
       "      <td>124179</td>\n",
       "      <td>132</td>\n",
       "      <td>NaN</td>\n",
       "      <td>35559</td>\n",
       "      <td>150</td>\n",
       "      <td>643</td>\n",
       "      <td>NaN</td>\n",
       "      <td>15801</td>\n",
       "    </tr>\n",
       "    <tr>\n",
       "      <th>mean</th>\n",
       "      <td>NaN</td>\n",
       "      <td>NaN</td>\n",
       "      <td>NaN</td>\n",
       "      <td>2.964190</td>\n",
       "      <td>3.182438e+04</td>\n",
       "      <td>NaN</td>\n",
       "      <td>1.631095e+06</td>\n",
       "      <td>NaN</td>\n",
       "      <td>0.291912</td>\n",
       "      <td>NaN</td>\n",
       "      <td>...</td>\n",
       "      <td>NaN</td>\n",
       "      <td>NaN</td>\n",
       "      <td>NaN</td>\n",
       "      <td>NaN</td>\n",
       "      <td>8.170749e+03</td>\n",
       "      <td>NaN</td>\n",
       "      <td>NaN</td>\n",
       "      <td>NaN</td>\n",
       "      <td>6.926441e+18</td>\n",
       "      <td>NaN</td>\n",
       "    </tr>\n",
       "    <tr>\n",
       "      <th>std</th>\n",
       "      <td>NaN</td>\n",
       "      <td>NaN</td>\n",
       "      <td>NaN</td>\n",
       "      <td>1.907904</td>\n",
       "      <td>5.906035e+05</td>\n",
       "      <td>NaN</td>\n",
       "      <td>4.938170e+07</td>\n",
       "      <td>NaN</td>\n",
       "      <td>3.073606</td>\n",
       "      <td>NaN</td>\n",
       "      <td>...</td>\n",
       "      <td>NaN</td>\n",
       "      <td>NaN</td>\n",
       "      <td>NaN</td>\n",
       "      <td>NaN</td>\n",
       "      <td>1.864213e+05</td>\n",
       "      <td>NaN</td>\n",
       "      <td>NaN</td>\n",
       "      <td>NaN</td>\n",
       "      <td>1.357545e+18</td>\n",
       "      <td>NaN</td>\n",
       "    </tr>\n",
       "    <tr>\n",
       "      <th>min</th>\n",
       "      <td>NaN</td>\n",
       "      <td>NaN</td>\n",
       "      <td>NaN</td>\n",
       "      <td>0.000000</td>\n",
       "      <td>5.000000e+00</td>\n",
       "      <td>NaN</td>\n",
       "      <td>0.000000e+00</td>\n",
       "      <td>NaN</td>\n",
       "      <td>0.000000</td>\n",
       "      <td>NaN</td>\n",
       "      <td>...</td>\n",
       "      <td>NaN</td>\n",
       "      <td>NaN</td>\n",
       "      <td>NaN</td>\n",
       "      <td>NaN</td>\n",
       "      <td>0.000000e+00</td>\n",
       "      <td>NaN</td>\n",
       "      <td>NaN</td>\n",
       "      <td>NaN</td>\n",
       "      <td>4.612309e+18</td>\n",
       "      <td>NaN</td>\n",
       "    </tr>\n",
       "    <tr>\n",
       "      <th>25%</th>\n",
       "      <td>NaN</td>\n",
       "      <td>NaN</td>\n",
       "      <td>NaN</td>\n",
       "      <td>0.000000</td>\n",
       "      <td>2.500000e+01</td>\n",
       "      <td>NaN</td>\n",
       "      <td>1.000000e+02</td>\n",
       "      <td>NaN</td>\n",
       "      <td>0.000000</td>\n",
       "      <td>NaN</td>\n",
       "      <td>...</td>\n",
       "      <td>NaN</td>\n",
       "      <td>NaN</td>\n",
       "      <td>NaN</td>\n",
       "      <td>NaN</td>\n",
       "      <td>0.000000e+00</td>\n",
       "      <td>NaN</td>\n",
       "      <td>NaN</td>\n",
       "      <td>NaN</td>\n",
       "      <td>5.746679e+18</td>\n",
       "      <td>NaN</td>\n",
       "    </tr>\n",
       "    <tr>\n",
       "      <th>50%</th>\n",
       "      <td>NaN</td>\n",
       "      <td>NaN</td>\n",
       "      <td>NaN</td>\n",
       "      <td>3.950000</td>\n",
       "      <td>1.540000e+02</td>\n",
       "      <td>NaN</td>\n",
       "      <td>5.000000e+03</td>\n",
       "      <td>NaN</td>\n",
       "      <td>0.000000</td>\n",
       "      <td>NaN</td>\n",
       "      <td>...</td>\n",
       "      <td>NaN</td>\n",
       "      <td>NaN</td>\n",
       "      <td>NaN</td>\n",
       "      <td>NaN</td>\n",
       "      <td>1.500000e+01</td>\n",
       "      <td>NaN</td>\n",
       "      <td>NaN</td>\n",
       "      <td>NaN</td>\n",
       "      <td>6.912364e+18</td>\n",
       "      <td>NaN</td>\n",
       "    </tr>\n",
       "    <tr>\n",
       "      <th>75%</th>\n",
       "      <td>NaN</td>\n",
       "      <td>NaN</td>\n",
       "      <td>NaN</td>\n",
       "      <td>4.371429</td>\n",
       "      <td>1.720000e+03</td>\n",
       "      <td>NaN</td>\n",
       "      <td>1.000000e+05</td>\n",
       "      <td>NaN</td>\n",
       "      <td>0.000000</td>\n",
       "      <td>NaN</td>\n",
       "      <td>...</td>\n",
       "      <td>NaN</td>\n",
       "      <td>NaN</td>\n",
       "      <td>NaN</td>\n",
       "      <td>NaN</td>\n",
       "      <td>2.310000e+02</td>\n",
       "      <td>NaN</td>\n",
       "      <td>NaN</td>\n",
       "      <td>NaN</td>\n",
       "      <td>8.130049e+18</td>\n",
       "      <td>NaN</td>\n",
       "    </tr>\n",
       "    <tr>\n",
       "      <th>max</th>\n",
       "      <td>NaN</td>\n",
       "      <td>NaN</td>\n",
       "      <td>NaN</td>\n",
       "      <td>5.000000</td>\n",
       "      <td>1.080669e+08</td>\n",
       "      <td>NaN</td>\n",
       "      <td>5.000000e+09</td>\n",
       "      <td>NaN</td>\n",
       "      <td>399.990000</td>\n",
       "      <td>NaN</td>\n",
       "      <td>...</td>\n",
       "      <td>NaN</td>\n",
       "      <td>NaN</td>\n",
       "      <td>NaN</td>\n",
       "      <td>NaN</td>\n",
       "      <td>3.799872e+07</td>\n",
       "      <td>NaN</td>\n",
       "      <td>NaN</td>\n",
       "      <td>NaN</td>\n",
       "      <td>9.223355e+18</td>\n",
       "      <td>NaN</td>\n",
       "    </tr>\n",
       "  </tbody>\n",
       "</table>\n",
       "<p>11 rows × 29 columns</p>\n",
       "</div>"
      ],
      "text/plain": [
       "         App Name           App Id   Category         Rating  Rating Count  \\\n",
       "count      124580           124588     124580  123496.000000  8.876100e+04   \n",
       "unique     121460           124588         48            NaN           NaN   \n",
       "top     Solitaire  com.samsung.ref  Education            NaN           NaN   \n",
       "freq           35                1      13551            NaN           NaN   \n",
       "mean          NaN              NaN        NaN       2.964190  3.182438e+04   \n",
       "std           NaN              NaN        NaN       1.907904  5.906035e+05   \n",
       "min           NaN              NaN        NaN       0.000000  5.000000e+00   \n",
       "25%           NaN              NaN        NaN       0.000000  2.500000e+01   \n",
       "50%           NaN              NaN        NaN       3.950000  1.540000e+02   \n",
       "75%           NaN              NaN        NaN       4.371429  1.720000e+03   \n",
       "max           NaN              NaN        NaN       5.000000  1.080669e+08   \n",
       "\n",
       "       Installs  Minimum Installs    Free          Price Currency  ...  \\\n",
       "count    124509      1.245800e+05  124508  124508.000000   124508  ...   \n",
       "unique       21               NaN       2            NaN       38  ...   \n",
       "top     10,000+               NaN    True            NaN      USD  ...   \n",
       "freq      18740               NaN  115712            NaN   107811  ...   \n",
       "mean        NaN      1.631095e+06     NaN       0.291912      NaN  ...   \n",
       "std         NaN      4.938170e+07     NaN       3.073606      NaN  ...   \n",
       "min         NaN      0.000000e+00     NaN       0.000000      NaN  ...   \n",
       "25%         NaN      1.000000e+02     NaN       0.000000      NaN  ...   \n",
       "50%         NaN      5.000000e+03     NaN       0.000000      NaN  ...   \n",
       "75%         NaN      1.000000e+05     NaN       0.000000      NaN  ...   \n",
       "max         NaN      5.000000e+09     NaN     399.990000      NaN  ...   \n",
       "\n",
       "       Ad Supported In app purchases Editor Choice  \\\n",
       "count         95998           124588        124588   \n",
       "unique            1                2             2   \n",
       "top            True            False         False   \n",
       "freq          95998            89091        124179   \n",
       "mean            NaN              NaN           NaN   \n",
       "std             NaN              NaN           NaN   \n",
       "min             NaN              NaN           NaN   \n",
       "25%             NaN              NaN           NaN   \n",
       "50%             NaN              NaN           NaN   \n",
       "75%             NaN              NaN           NaN   \n",
       "max             NaN              NaN           NaN   \n",
       "\n",
       "                                                  Summary       Reviews  \\\n",
       "count                                              124561  1.234960e+05   \n",
       "unique                                             117417           NaN   \n",
       "top     Download and enjoy your new application totall...           NaN   \n",
       "freq                                                  132           NaN   \n",
       "mean                                                  NaN  8.170749e+03   \n",
       "std                                                   NaN  1.864213e+05   \n",
       "min                                                   NaN  0.000000e+00   \n",
       "25%                                                   NaN  0.000000e+00   \n",
       "50%                                                   NaN  1.500000e+01   \n",
       "75%                                                   NaN  2.310000e+02   \n",
       "max                                                   NaN  3.799872e+07   \n",
       "\n",
       "       Android version Text     Developer  \\\n",
       "count                124320        124580   \n",
       "unique                   47          9450   \n",
       "top              4.1 and up  2Thumbz, Inc   \n",
       "freq                  35559           150   \n",
       "mean                    NaN           NaN   \n",
       "std                     NaN           NaN   \n",
       "min                     NaN           NaN   \n",
       "25%                     NaN           NaN   \n",
       "50%                     NaN           NaN   \n",
       "75%                     NaN           NaN   \n",
       "max                     NaN           NaN   \n",
       "\n",
       "                                        Developer Address  \\\n",
       "count                                               91535   \n",
       "unique                                               7131   \n",
       "top     EduGorilla Community Pvt. Ltd\\n12/651, First F...   \n",
       "freq                                                  643   \n",
       "mean                                                  NaN   \n",
       "std                                                   NaN   \n",
       "min                                                   NaN   \n",
       "25%                                                   NaN   \n",
       "50%                                                   NaN   \n",
       "75%                                                   NaN   \n",
       "max                                                   NaN   \n",
       "\n",
       "       Developer Internal ID Version  \n",
       "count           1.245800e+05  124513  \n",
       "unique                   NaN   10778  \n",
       "top                      NaN       1  \n",
       "freq                     NaN   15801  \n",
       "mean            6.926441e+18     NaN  \n",
       "std             1.357545e+18     NaN  \n",
       "min             4.612309e+18     NaN  \n",
       "25%             5.746679e+18     NaN  \n",
       "50%             6.912364e+18     NaN  \n",
       "75%             8.130049e+18     NaN  \n",
       "max             9.223355e+18     NaN  \n",
       "\n",
       "[11 rows x 29 columns]"
      ]
     },
     "execution_count": 4,
     "metadata": {},
     "output_type": "execute_result"
    }
   ],
   "source": [
    "playstore.describe(include='all')"
   ]
  },
  {
   "cell_type": "code",
   "execution_count": 5,
   "id": "royal-dakota",
   "metadata": {},
   "outputs": [
    {
     "name": "stdout",
     "output_type": "stream",
     "text": [
      "<class 'pandas.core.frame.DataFrame'>\n",
      "RangeIndex: 124588 entries, 0 to 124587\n",
      "Data columns (total 29 columns):\n",
      " #   Column                 Non-Null Count   Dtype  \n",
      "---  ------                 --------------   -----  \n",
      " 0   App Name               124580 non-null  object \n",
      " 1   App Id                 124588 non-null  object \n",
      " 2   Category               124580 non-null  object \n",
      " 3   Rating                 123496 non-null  float64\n",
      " 4   Rating Count           88761 non-null   float64\n",
      " 5   Installs               124509 non-null  object \n",
      " 6   Minimum Installs       124580 non-null  float64\n",
      " 7   Free                   124508 non-null  object \n",
      " 8   Price                  124508 non-null  float64\n",
      " 9   Currency               124508 non-null  object \n",
      " 10  Size                   124579 non-null  object \n",
      " 11  Minimum Android        124320 non-null  object \n",
      " 12  Developer Id           124580 non-null  object \n",
      " 13  Developer Website      101891 non-null  object \n",
      " 14  Developer Email        124579 non-null  object \n",
      " 15  Released               123375 non-null  object \n",
      " 16  Last update            124588 non-null  object \n",
      " 17  Privacy Policy         112558 non-null  object \n",
      " 18  Content Rating         124580 non-null  object \n",
      " 19  Ad Supported           95998 non-null   object \n",
      " 20  In app purchases       124588 non-null  bool   \n",
      " 21  Editor Choice          124588 non-null  bool   \n",
      " 22  Summary                124561 non-null  object \n",
      " 23  Reviews                123496 non-null  float64\n",
      " 24  Android version Text   124320 non-null  object \n",
      " 25  Developer              124580 non-null  object \n",
      " 26  Developer Address      91535 non-null   object \n",
      " 27  Developer Internal ID  124580 non-null  float64\n",
      " 28  Version                124513 non-null  object \n",
      "dtypes: bool(2), float64(6), object(21)\n",
      "memory usage: 25.9+ MB\n"
     ]
    }
   ],
   "source": [
    "playstore.info()"
   ]
  },
  {
   "cell_type": "markdown",
   "id": "bright-calvin",
   "metadata": {},
   "source": [
    "### The least important columns like App Id, Developer Website,etc are deleted"
   ]
  },
  {
   "cell_type": "code",
   "execution_count": 6,
   "id": "supposed-chest",
   "metadata": {},
   "outputs": [
    {
     "data": {
      "text/html": [
       "<div>\n",
       "<style scoped>\n",
       "    .dataframe tbody tr th:only-of-type {\n",
       "        vertical-align: middle;\n",
       "    }\n",
       "\n",
       "    .dataframe tbody tr th {\n",
       "        vertical-align: top;\n",
       "    }\n",
       "\n",
       "    .dataframe thead th {\n",
       "        text-align: right;\n",
       "    }\n",
       "</style>\n",
       "<table border=\"1\" class=\"dataframe\">\n",
       "  <thead>\n",
       "    <tr style=\"text-align: right;\">\n",
       "      <th></th>\n",
       "      <th>App Name</th>\n",
       "      <th>Category</th>\n",
       "      <th>Rating</th>\n",
       "      <th>Rating Count</th>\n",
       "      <th>Installs</th>\n",
       "      <th>Minimum Installs</th>\n",
       "      <th>Free</th>\n",
       "      <th>Price</th>\n",
       "      <th>Currency</th>\n",
       "      <th>Size</th>\n",
       "      <th>Minimum Android</th>\n",
       "      <th>Released</th>\n",
       "      <th>Last update</th>\n",
       "      <th>Content Rating</th>\n",
       "      <th>Ad Supported</th>\n",
       "      <th>In app purchases</th>\n",
       "      <th>Editor Choice</th>\n",
       "      <th>Summary</th>\n",
       "      <th>Reviews</th>\n",
       "      <th>Version</th>\n",
       "    </tr>\n",
       "  </thead>\n",
       "  <tbody>\n",
       "    <tr>\n",
       "      <th>0</th>\n",
       "      <td>Logistics Management</td>\n",
       "      <td>Education</td>\n",
       "      <td>4.090909</td>\n",
       "      <td>66.0</td>\n",
       "      <td>10,000+</td>\n",
       "      <td>10000.0</td>\n",
       "      <td>True</td>\n",
       "      <td>0.0</td>\n",
       "      <td>USD</td>\n",
       "      <td>5.8M</td>\n",
       "      <td>4</td>\n",
       "      <td>Jul 19, 2017</td>\n",
       "      <td>July 19, 2017</td>\n",
       "      <td>Everyone</td>\n",
       "      <td>True</td>\n",
       "      <td>False</td>\n",
       "      <td>False</td>\n",
       "      <td>Leading Online Learning and Training System in...</td>\n",
       "      <td>28.0</td>\n",
       "      <td>1.1.5</td>\n",
       "    </tr>\n",
       "    <tr>\n",
       "      <th>1</th>\n",
       "      <td>Estados Unidos Noticias</td>\n",
       "      <td>News &amp; Magazines</td>\n",
       "      <td>4.000000</td>\n",
       "      <td>8.0</td>\n",
       "      <td>1,000+</td>\n",
       "      <td>1000.0</td>\n",
       "      <td>True</td>\n",
       "      <td>0.0</td>\n",
       "      <td>USD</td>\n",
       "      <td>5.3M</td>\n",
       "      <td>4</td>\n",
       "      <td>May 5, 2017</td>\n",
       "      <td>May 5, 2017</td>\n",
       "      <td>Everyone</td>\n",
       "      <td>True</td>\n",
       "      <td>False</td>\n",
       "      <td>False</td>\n",
       "      <td>Top Stories\\r\\nWorld\\r\\nEntertainment\\r\\nSport...</td>\n",
       "      <td>3.0</td>\n",
       "      <td>1.2.3</td>\n",
       "    </tr>\n",
       "    <tr>\n",
       "      <th>2</th>\n",
       "      <td>Dental Assistant</td>\n",
       "      <td>Education</td>\n",
       "      <td>3.866667</td>\n",
       "      <td>15.0</td>\n",
       "      <td>10,000+</td>\n",
       "      <td>10000.0</td>\n",
       "      <td>True</td>\n",
       "      <td>0.0</td>\n",
       "      <td>USD</td>\n",
       "      <td>5.7M</td>\n",
       "      <td>4</td>\n",
       "      <td>Jul 18, 2017</td>\n",
       "      <td>July 18, 2017</td>\n",
       "      <td>Everyone</td>\n",
       "      <td>True</td>\n",
       "      <td>False</td>\n",
       "      <td>False</td>\n",
       "      <td>Dental Assistant: Study Dental Assistant, Dent...</td>\n",
       "      <td>3.0</td>\n",
       "      <td>1.1.5</td>\n",
       "    </tr>\n",
       "    <tr>\n",
       "      <th>3</th>\n",
       "      <td>Medical Assistant</td>\n",
       "      <td>Education</td>\n",
       "      <td>4.000000</td>\n",
       "      <td>18.0</td>\n",
       "      <td>5,000+</td>\n",
       "      <td>5000.0</td>\n",
       "      <td>True</td>\n",
       "      <td>0.0</td>\n",
       "      <td>USD</td>\n",
       "      <td>5.8M</td>\n",
       "      <td>4</td>\n",
       "      <td>Jun 24, 2017</td>\n",
       "      <td>June 24, 2017</td>\n",
       "      <td>Everyone</td>\n",
       "      <td>True</td>\n",
       "      <td>False</td>\n",
       "      <td>False</td>\n",
       "      <td>Medical Assistant Degree Medical Assistant Job...</td>\n",
       "      <td>7.0</td>\n",
       "      <td>1.1.4</td>\n",
       "    </tr>\n",
       "    <tr>\n",
       "      <th>4</th>\n",
       "      <td>Business Administration</td>\n",
       "      <td>Education</td>\n",
       "      <td>4.023256</td>\n",
       "      <td>86.0</td>\n",
       "      <td>50,000+</td>\n",
       "      <td>50000.0</td>\n",
       "      <td>True</td>\n",
       "      <td>0.0</td>\n",
       "      <td>USD</td>\n",
       "      <td>5.7M</td>\n",
       "      <td>4</td>\n",
       "      <td>Jun 13, 2017</td>\n",
       "      <td>October 6, 2017</td>\n",
       "      <td>Everyone</td>\n",
       "      <td>True</td>\n",
       "      <td>False</td>\n",
       "      <td>False</td>\n",
       "      <td>Business Administration Learning, Business Adm...</td>\n",
       "      <td>29.0</td>\n",
       "      <td>1.1.6</td>\n",
       "    </tr>\n",
       "  </tbody>\n",
       "</table>\n",
       "</div>"
      ],
      "text/plain": [
       "                  App Name          Category    Rating  Rating Count Installs  \\\n",
       "0     Logistics Management         Education  4.090909          66.0  10,000+   \n",
       "1  Estados Unidos Noticias  News & Magazines  4.000000           8.0   1,000+   \n",
       "2         Dental Assistant         Education  3.866667          15.0  10,000+   \n",
       "3        Medical Assistant         Education  4.000000          18.0   5,000+   \n",
       "4  Business Administration         Education  4.023256          86.0  50,000+   \n",
       "\n",
       "   Minimum Installs  Free  Price Currency  Size Minimum Android      Released  \\\n",
       "0           10000.0  True    0.0      USD  5.8M               4  Jul 19, 2017   \n",
       "1            1000.0  True    0.0      USD  5.3M               4   May 5, 2017   \n",
       "2           10000.0  True    0.0      USD  5.7M               4  Jul 18, 2017   \n",
       "3            5000.0  True    0.0      USD  5.8M               4  Jun 24, 2017   \n",
       "4           50000.0  True    0.0      USD  5.7M               4  Jun 13, 2017   \n",
       "\n",
       "       Last update Content Rating Ad Supported  In app purchases  \\\n",
       "0    July 19, 2017       Everyone         True             False   \n",
       "1      May 5, 2017       Everyone         True             False   \n",
       "2    July 18, 2017       Everyone         True             False   \n",
       "3    June 24, 2017       Everyone         True             False   \n",
       "4  October 6, 2017       Everyone         True             False   \n",
       "\n",
       "   Editor Choice                                            Summary  Reviews  \\\n",
       "0          False  Leading Online Learning and Training System in...     28.0   \n",
       "1          False  Top Stories\\r\\nWorld\\r\\nEntertainment\\r\\nSport...      3.0   \n",
       "2          False  Dental Assistant: Study Dental Assistant, Dent...      3.0   \n",
       "3          False  Medical Assistant Degree Medical Assistant Job...      7.0   \n",
       "4          False  Business Administration Learning, Business Adm...     29.0   \n",
       "\n",
       "  Version  \n",
       "0   1.1.5  \n",
       "1   1.2.3  \n",
       "2   1.1.5  \n",
       "3   1.1.4  \n",
       "4   1.1.6  "
      ]
     },
     "execution_count": 6,
     "metadata": {},
     "output_type": "execute_result"
    }
   ],
   "source": [
    "playstore.drop(['App Id','Developer Id','Developer Website','Developer Email','Privacy Policy','Android version Text','Developer','Developer Address','Developer Internal ID'],axis=1,inplace=True)\n",
    "playstore.head()"
   ]
  },
  {
   "cell_type": "markdown",
   "id": "digital-background",
   "metadata": {},
   "source": [
    "### Train test spliting of data"
   ]
  },
  {
   "cell_type": "code",
   "execution_count": 7,
   "id": "equal-evaluation",
   "metadata": {},
   "outputs": [],
   "source": [
    "from sklearn.model_selection import train_test_split\n",
    "train_data,test_data=train_test_split(playstore,test_size=0.15,random_state=42)"
   ]
  },
  {
   "cell_type": "markdown",
   "id": "fifth-buffer",
   "metadata": {},
   "source": [
    "### Dealing with missing values"
   ]
  },
  {
   "cell_type": "code",
   "execution_count": 8,
   "id": "wrapped-modern",
   "metadata": {},
   "outputs": [
    {
     "name": "stdout",
     "output_type": "stream",
     "text": [
      "App Name have 8   null value\n",
      "Category have 8   null value\n",
      "Rating have 929   null value\n",
      "Rating Count have 30415   null value\n",
      "Installs have 64   null value\n",
      "Minimum Installs have 8   null value\n",
      "Free have 65   null value\n",
      "Price have 65   null value\n",
      "Currency have 65   null value\n",
      "Size have 9   null value\n",
      "Minimum Android have 239   null value\n",
      "Released have 1038   null value\n",
      "Last update have 0   null value\n",
      "Content Rating have 8   null value\n",
      "Ad Supported have 24353   null value\n",
      "In app purchases have 0   null value\n",
      "Editor Choice have 0   null value\n",
      "Summary have 23   null value\n",
      "Reviews have 929   null value\n",
      "Version have 64   null value\n"
     ]
    }
   ],
   "source": [
    "for col in train_data.columns:\n",
    "    null=train_data[col].isnull().sum()\n",
    "    print('{0} have {1}   null value'.format(col,null))"
   ]
  },
  {
   "cell_type": "code",
   "execution_count": 9,
   "id": "organic-circular",
   "metadata": {},
   "outputs": [],
   "source": [
    "train_data.fillna(method='bfill',inplace=True)"
   ]
  },
  {
   "cell_type": "markdown",
   "id": "competent-botswana",
   "metadata": {},
   "source": [
    "### Categorical type columns"
   ]
  },
  {
   "cell_type": "code",
   "execution_count": 10,
   "id": "expired-engineer",
   "metadata": {},
   "outputs": [
    {
     "data": {
      "text/plain": [
       "['App Name',\n",
       " 'Category',\n",
       " 'Installs',\n",
       " 'Currency',\n",
       " 'Size',\n",
       " 'Minimum Android',\n",
       " 'Released',\n",
       " 'Last update',\n",
       " 'Content Rating',\n",
       " 'Summary',\n",
       " 'Version']"
      ]
     },
     "execution_count": 10,
     "metadata": {},
     "output_type": "execute_result"
    }
   ],
   "source": [
    "categorical_columns=[]\n",
    "for col in train_data.columns:\n",
    "    if train_data[col].dtype=='O':\n",
    "        categorical_columns.append(col)\n",
    "categorical_columns"
   ]
  },
  {
   "cell_type": "markdown",
   "id": "strong-addiction",
   "metadata": {},
   "source": [
    "### Installs"
   ]
  },
  {
   "cell_type": "code",
   "execution_count": 11,
   "id": "statutory-flash",
   "metadata": {},
   "outputs": [],
   "source": [
    "def string_to_numeric(data):\n",
    "    data=data.replace(',','')\n",
    "    data=data[:-1]\n",
    "    return int(data)\n",
    "\n",
    "train_data['Installs']=train_data['Installs'].apply(string_to_numeric)"
   ]
  },
  {
   "cell_type": "code",
   "execution_count": 12,
   "id": "moving-malpractice",
   "metadata": {},
   "outputs": [
    {
     "data": {
      "text/plain": [
       "[]"
      ]
     },
     "execution_count": 12,
     "metadata": {},
     "output_type": "execute_result"
    },
    {
     "data": {
      "image/png": "[encoded data removed]",
      "text/plain": [
       "<Figure size 1440x1080 with 1 Axes>"
      ]
     },
     "metadata": {
      "needs_background": "light"
     },
     "output_type": "display_data"
    }
   ],
   "source": [
    "plt.figure(figsize=(20,15))\n",
    "sns.countplot(train_data['Installs'])\n",
    "plt.plot()"
   ]
  },
  {
   "cell_type": "markdown",
   "id": "settled-george",
   "metadata": {},
   "source": [
    "### Size of App"
   ]
  },
  {
   "cell_type": "code",
   "execution_count": 13,
   "id": "rapid-illness",
   "metadata": {},
   "outputs": [],
   "source": [
    "def define_size(data):\n",
    "    data=data.replace(',','')\n",
    "    num=data[:-1]\n",
    "    if data[-1]=='K' or data[-1]=='k' :\n",
    "        return float(num)\n",
    "    elif data[-1]=='M' or data[-1]=='m':\n",
    "        return float(num)*1000\n",
    "    elif data[-1]=='G' or data[-1]=='g':\n",
    "        return float(num)*1000000\n",
    "    else:\n",
    "        return 1000"
   ]
  },
  {
   "cell_type": "markdown",
   "id": "alone-table",
   "metadata": {},
   "source": [
    "##### Function to convert every size of App to "
   ]
  },
  {
   "cell_type": "code",
   "execution_count": 14,
   "id": "external-links",
   "metadata": {},
   "outputs": [],
   "source": [
    "train_data['Size']=train_data['Size'].apply(define_size)"
   ]
  },
  {
   "cell_type": "code",
   "execution_count": 15,
   "id": "japanese-stewart",
   "metadata": {},
   "outputs": [
    {
     "data": {
      "text/plain": [
       "[]"
      ]
     },
     "execution_count": 15,
     "metadata": {},
     "output_type": "execute_result"
    },
    {
     "data": {
      "image/png": "[encoded data removed]",
      "text/plain": [
       "<Figure size 1440x1080 with 1 Axes>"
      ]
     },
     "metadata": {
      "needs_background": "light"
     },
     "output_type": "display_data"
    }
   ],
   "source": [
    "plt.figure(figsize=(20,15))\n",
    "sns.countplot(train_data['Size'])\n",
    "plt.plot()"
   ]
  },
  {
   "cell_type": "code",
   "execution_count": 16,
   "id": "legal-scholarship",
   "metadata": {},
   "outputs": [
    {
     "data": {
      "text/plain": [
       "[]"
      ]
     },
     "execution_count": 16,
     "metadata": {},
     "output_type": "execute_result"
    },
    {
     "data": {
      "image/png": "[encoded data removed]",
      "text/plain": [
       "<Figure size 1440x1080 with 1 Axes>"
      ]
     },
     "metadata": {
      "needs_background": "light"
     },
     "output_type": "display_data"
    }
   ],
   "source": [
    "plt.figure(figsize=(20,15))\n",
    "sns.lineplot(train_data['Size'],train_data['Installs'])\n",
    "plt.plot()"
   ]
  },
  {
   "cell_type": "markdown",
   "id": "valued-boost",
   "metadata": {},
   "source": [
    "### Content Rating"
   ]
  },
  {
   "cell_type": "code",
   "execution_count": 18,
   "id": "removable-humor",
   "metadata": {},
   "outputs": [
    {
     "data": {
      "text/plain": [
       "Everyone           84947\n",
       "Teen               13218\n",
       "Mature 17+          4115\n",
       "Everyone 10+        3605\n",
       "Adults only 18+       11\n",
       "Unrated                3\n",
       "Name: Content Rating, dtype: int64"
      ]
     },
     "execution_count": 18,
     "metadata": {},
     "output_type": "execute_result"
    }
   ],
   "source": [
    "train_data['Content Rating'].value_counts()"
   ]
  },
  {
   "cell_type": "code",
   "execution_count": 62,
   "id": "social-drunk",
   "metadata": {},
   "outputs": [
    {
     "data": {
      "text/plain": [
       "[]"
      ]
     },
     "execution_count": 62,
     "metadata": {},
     "output_type": "execute_result"
    },
    {
     "data": {
      "image/png": "[encoded data removed]",
      "text/plain": [
       "<Figure size 432x288 with 1 Axes>"
      ]
     },
     "metadata": {},
     "output_type": "display_data"
    }
   ],
   "source": [
    "plt.pie(train_data['Content Rating'].value_counts(),explode=[0.1,0.2,0.3,0.2,0.5,0.1],autopct='%0.2f%%',\n",
    "        labels=['Everyone','Teenager','Mature 17+','Everyone 10+','Unrated','Adult only 18+'],startangle=90,radius=3,\n",
    "       colors=['#5DADE2','#85929E','#C39BD3','#F0F3F4','#DC7633','#2C3E50'])\n",
    "plt.title('Content Rating',fontdict={'size':20,'weight':'bold'},loc='right')\n",
    "plt.plot()"
   ]
  },
  {
   "cell_type": "code",
   "execution_count": 24,
   "id": "scenic-choice",
   "metadata": {},
   "outputs": [
    {
     "data": {
      "text/plain": [
       "[]"
      ]
     },
     "execution_count": 24,
     "metadata": {},
     "output_type": "execute_result"
    },
    {
     "data": {
      "image/png": "[encoded data removed]",
      "text/plain": [
       "<Figure size 1440x1080 with 1 Axes>"
      ]
     },
     "metadata": {
      "needs_background": "light"
     },
     "output_type": "display_data"
    }
   ],
   "source": [
    "plt.figure(figsize=(20,15))\n",
    "sns.countplot(train_data['Content Rating'])\n",
    "plt.plot()"
   ]
  },
  {
   "cell_type": "code",
   "execution_count": 25,
   "id": "pleased-taxation",
   "metadata": {},
   "outputs": [],
   "source": [
    "lbl_content_rating=LabelEncoder()\n",
    "train_data['Content Rating']=lbl_content_rating.fit_transform(train_data['Content Rating'])"
   ]
  },
  {
   "cell_type": "markdown",
   "id": "severe-estimate",
   "metadata": {},
   "source": [
    "### Minimum Android Version"
   ]
  },
  {
   "cell_type": "code",
   "execution_count": null,
   "id": "saved-custody",
   "metadata": {},
   "outputs": [],
   "source": [
    "def min_android(data):\n",
    "    p=data.split()\n",
    "    if data=='Varies with device':\n",
    "        return 4.0\n",
    "    else:\n",
    "        return float(p[0][:3])\n",
    "train_data['Minimum Android']=train_data['Minimum Android'].apply(min_android)\n",
    "## ERROR IN CODE"
   ]
  },
  {
   "cell_type": "code",
   "execution_count": 28,
   "id": "cooperative-fault",
   "metadata": {},
   "outputs": [
    {
     "data": {
      "text/plain": [
       "[]"
      ]
     },
     "execution_count": 28,
     "metadata": {},
     "output_type": "execute_result"
    },
    {
     "data": {
      "image/png": "[encoded data removed]",
      "text/plain": [
       "<Figure size 2160x1080 with 1 Axes>"
      ]
     },
     "metadata": {
      "needs_background": "light"
     },
     "output_type": "display_data"
    }
   ],
   "source": [
    "plt.figure(figsize=(30,15))\n",
    "sns.countplot(train_data['Minimum Android'])\n",
    "plt.plot()"
   ]
  },
  {
   "cell_type": "markdown",
   "id": "selected-scope",
   "metadata": {},
   "source": [
    "### Categories Of App"
   ]
  },
  {
   "cell_type": "code",
   "execution_count": 29,
   "id": "approved-munich",
   "metadata": {},
   "outputs": [
    {
     "data": {
      "text/plain": [
       "Education                  11532\n",
       "Music & Audio               8164\n",
       "Personalization             8044\n",
       "Books & Reference           6310\n",
       "Puzzle                      5859\n",
       "Tools                       5378\n",
       "Entertainment               4725\n",
       "Casual                      4335\n",
       "Simulation                  4096\n",
       "Arcade                      3231\n",
       "Action                      2877\n",
       "Lifestyle                   2870\n",
       "Educational                 2526\n",
       "Sports                      2435\n",
       "Adventure                   2270\n",
       "Travel & Local              2192\n",
       "Productivity                2012\n",
       "Health & Fitness            1954\n",
       "News & Magazines            1847\n",
       "Business                    1712\n",
       "Role Playing                1685\n",
       "Racing                      1537\n",
       "Board                       1410\n",
       "Photography                 1276\n",
       "Card                        1233\n",
       "Communication               1212\n",
       "Strategy                    1157\n",
       "Food & Drink                1130\n",
       "Word                        1112\n",
       "Social                      1067\n",
       "Shopping                     901\n",
       "Finance                      874\n",
       "Trivia                       848\n",
       "Casino                       752\n",
       "Art & Design                 663\n",
       "Medical                      587\n",
       "Video Players & Editors      559\n",
       "Maps & Navigation            551\n",
       "Weather                      536\n",
       "Music                        414\n",
       "Auto & Vehicles              402\n",
       "Dating                       365\n",
       "Libraries & Demo             355\n",
       "Beauty                       240\n",
       "House & Home                 202\n",
       "Comics                       197\n",
       "Parenting                    163\n",
       "Events                       102\n",
       "Name: Category, dtype: int64"
      ]
     },
     "execution_count": 29,
     "metadata": {},
     "output_type": "execute_result"
    }
   ],
   "source": [
    "train_data['Category'].value_counts()"
   ]
  },
  {
   "cell_type": "code",
   "execution_count": 32,
   "id": "featured-prescription",
   "metadata": {},
   "outputs": [
    {
     "data": {
      "text/plain": [
       "[]"
      ]
     },
     "execution_count": 32,
     "metadata": {},
     "output_type": "execute_result"
    },
    {
     "data": {
      "image/png": "[encoded data removed]",
      "text/plain": [
       "<Figure size 3600x1800 with 1 Axes>"
      ]
     },
     "metadata": {
      "needs_background": "light"
     },
     "output_type": "display_data"
    }
   ],
   "source": [
    "plt.figure(figsize=(50,25))\n",
    "sns.countplot(train_data['Category'])\n",
    "plt.plot()"
   ]
  },
  {
   "cell_type": "code",
   "execution_count": 33,
   "id": "flexible-therapy",
   "metadata": {},
   "outputs": [],
   "source": [
    "lbl_category=LabelEncoder()\n",
    "train_data['Category']=lbl_category.fit_transform(train_data['Category'])"
   ]
  },
  {
   "cell_type": "markdown",
   "id": "toxic-naples",
   "metadata": {},
   "source": [
    "### Currency"
   ]
  },
  {
   "cell_type": "code",
   "execution_count": 35,
   "id": "convinced-trout",
   "metadata": {},
   "outputs": [],
   "source": [
    "cc=CurrencyConverter()\n",
    "\n",
    "\n",
    "def currency_to_INR(data):\n",
    "    if data not in cc.currencies:\n",
    "        data=1\n",
    "    else:\n",
    "        data=cc.convert(1,data,'INR')\n",
    "    return data"
   ]
  },
  {
   "cell_type": "code",
   "execution_count": 36,
   "id": "female-biotechnology",
   "metadata": {},
   "outputs": [],
   "source": [
    "train_data['Currency']=train_data['Currency'].apply(currency_to_INR)"
   ]
  },
  {
   "cell_type": "code",
   "execution_count": 37,
   "id": "extended-elephant",
   "metadata": {},
   "outputs": [
    {
     "data": {
      "text/plain": [
       "0.000000        98423\n",
       "72.583314        1837\n",
       "145.899792       1244\n",
       "219.216271        790\n",
       "109.241553        782\n",
       "                ...  \n",
       "12096.485809        1\n",
       "2858.609502         1\n",
       "76.982303           1\n",
       "1685.545844         1\n",
       "199.420822          1\n",
       "Name: Price, Length: 138, dtype: int64"
      ]
     },
     "execution_count": 37,
     "metadata": {},
     "output_type": "execute_result"
    }
   ],
   "source": [
    "train_data.Price=train_data.Price*train_data.Currency\n",
    "train_data.Price.value_counts()"
   ]
  },
  {
   "cell_type": "markdown",
   "id": "incident-walker",
   "metadata": {},
   "source": [
    "##### Multipling Price Column with currency to get the actual Price in INR"
   ]
  },
  {
   "cell_type": "markdown",
   "id": "ongoing-assumption",
   "metadata": {},
   "source": [
    "### Boolean Columns"
   ]
  },
  {
   "cell_type": "code",
   "execution_count": 38,
   "id": "czech-collar",
   "metadata": {},
   "outputs": [
    {
     "data": {
      "text/plain": [
       "['Free', 'Ad Supported', 'In app purchases', 'Editor Choice']"
      ]
     },
     "execution_count": 38,
     "metadata": {},
     "output_type": "execute_result"
    }
   ],
   "source": [
    "bln=[]\n",
    "for col in train_data.columns:\n",
    "    if train_data[col].dtype=='bool':\n",
    "        bln.append(col)\n",
    "bln"
   ]
  },
  {
   "cell_type": "markdown",
   "id": "realistic-departure",
   "metadata": {},
   "source": [
    "### Is App is Free?"
   ]
  },
  {
   "cell_type": "code",
   "execution_count": 39,
   "id": "vietnamese-scene",
   "metadata": {},
   "outputs": [
    {
     "data": {
      "text/plain": [
       "True     98423\n",
       "False     7476\n",
       "Name: Free, dtype: int64"
      ]
     },
     "execution_count": 39,
     "metadata": {},
     "output_type": "execute_result"
    }
   ],
   "source": [
    "train_data.Free.value_counts()"
   ]
  },
  {
   "cell_type": "code",
   "execution_count": 61,
   "id": "loose-movement",
   "metadata": {},
   "outputs": [
    {
     "data": {
      "text/plain": [
       "[]"
      ]
     },
     "execution_count": 61,
     "metadata": {},
     "output_type": "execute_result"
    },
    {
     "data": {
      "image/png": "[encoded data removed]",
      "text/plain": [
       "<Figure size 432x288 with 1 Axes>"
      ]
     },
     "metadata": {},
     "output_type": "display_data"
    }
   ],
   "source": [
    "plt.pie(train_data.Free.value_counts(),radius=3,autopct='%0.2f%%',explode=[0.2,0.5],colors=['#5D6D7E','#CACFD2'],labels=['Free','Not for Free'],\n",
    "        startangle=90)\n",
    "plt.title('Is App is Free?',fontdict={'size':20,'weight':'bold'})\n",
    "plt.plot()"
   ]
  },
  {
   "cell_type": "code",
   "execution_count": 43,
   "id": "organizational-insured",
   "metadata": {},
   "outputs": [],
   "source": [
    "train_data.Free=pd.Categorical(train_data.Free,ordered=True,categories=[False,True]).codes"
   ]
  },
  {
   "cell_type": "markdown",
   "id": "binary-still",
   "metadata": {},
   "source": [
    "### Is App is Ad Supported?"
   ]
  },
  {
   "cell_type": "code",
   "execution_count": null,
   "id": "interracial-latex",
   "metadata": {},
   "outputs": [],
   "source": [
    "plt.pie(train_data['Ad Supported'].value_counts(),radius=3,autopct='%0.2f%%',explode=[0.2,0.5],colors=['#800080','#ff00ff'],labels=['Ad Supported','No supported'],\n",
    "        startangle=90)\n",
    "plt.title('Is Ad supported?',fontdict={'size':20,'weight':'bold'})\n",
    "plt.plot()\n",
    "### ERROR"
   ]
  },
  {
   "cell_type": "code",
   "execution_count": 55,
   "id": "elegant-alloy",
   "metadata": {},
   "outputs": [],
   "source": [
    "train_data['Ad Supported']=pd.Categorical(train_data['Ad Supported'],ordered=True,categories=[False,True]).codes"
   ]
  },
  {
   "cell_type": "markdown",
   "id": "german-carpet",
   "metadata": {},
   "source": [
    "### Is App is In Purchases?"
   ]
  },
  {
   "cell_type": "code",
   "execution_count": 59,
   "id": "overall-sarah",
   "metadata": {},
   "outputs": [
    {
     "data": {
      "text/plain": [
       "False    75613\n",
       "True     30286\n",
       "Name: In app purchases, dtype: int64"
      ]
     },
     "execution_count": 59,
     "metadata": {},
     "output_type": "execute_result"
    }
   ],
   "source": [
    "train_data['In app purchases'].value_counts()"
   ]
  },
  {
   "cell_type": "code",
   "execution_count": 63,
   "id": "surface-karen",
   "metadata": {
    "scrolled": false
   },
   "outputs": [
    {
     "data": {
      "text/plain": [
       "[]"
      ]
     },
     "execution_count": 63,
     "metadata": {},
     "output_type": "execute_result"
    },
    {
     "data": {
      "image/png": "[encoded data removed]",
      "text/plain": [
       "<Figure size 432x288 with 1 Axes>"
      ]
     },
     "metadata": {},
     "output_type": "display_data"
    }
   ],
   "source": [
    "plt.pie(train_data['In app purchases'].value_counts(),radius=3,autopct='%0.2f%%',explode=[0.2,0.5],colors=['#FA8072','#40E0D0'],labels=['App not in purchase','App in purchase'],\n",
    "        startangle=90)\n",
    "plt.title('Is In App Purchases?',fontdict={'size':20,'weight':'bold'})\n",
    "plt.plot()"
   ]
  },
  {
   "cell_type": "code",
   "execution_count": 66,
   "id": "welcome-candy",
   "metadata": {},
   "outputs": [],
   "source": [
    "train_data['In app purchases']=pd.Categorical(train_data['In app purchases'],ordered=True,categories=[False,True]).codes"
   ]
  },
  {
   "cell_type": "markdown",
   "id": "initial-lighting",
   "metadata": {},
   "source": [
    "### Editors Choice"
   ]
  },
  {
   "cell_type": "code",
   "execution_count": 68,
   "id": "fifteen-damage",
   "metadata": {},
   "outputs": [
    {
     "data": {
      "text/plain": [
       "False    105547\n",
       "True        352\n",
       "Name: Editor Choice, dtype: int64"
      ]
     },
     "execution_count": 68,
     "metadata": {},
     "output_type": "execute_result"
    }
   ],
   "source": [
    "train_data['Editor Choice'].value_counts()"
   ]
  },
  {
   "cell_type": "code",
   "execution_count": 71,
   "id": "appointed-cleaning",
   "metadata": {
    "scrolled": false
   },
   "outputs": [
    {
     "data": {
      "text/plain": [
       "[]"
      ]
     },
     "execution_count": 71,
     "metadata": {},
     "output_type": "execute_result"
    },
    {
     "data": {
      "image/png": "[encoded data removed]",
      "text/plain": [
       "<Figure size 432x288 with 1 Axes>"
      ]
     },
     "metadata": {},
     "output_type": "display_data"
    }
   ],
   "source": [
    "plt.pie(train_data['Editor Choice'].value_counts(),radius=3,autopct='%0.2f%%',explode=[0.2,0.9],colors=['#F9E79F','#000000'],labels=['Not Editor choice','Editor choice'],\n",
    "        startangle=90)\n",
    "plt.title('Is Editors Choice?',fontdict={'size':20,'weight':'bold'})\n",
    "plt.plot()"
   ]
  },
  {
   "cell_type": "markdown",
   "id": "tracked-agreement",
   "metadata": {},
   "source": [
    "### Released Date"
   ]
  },
  {
   "cell_type": "code",
   "execution_count": 80,
   "id": "quick-lottery",
   "metadata": {},
   "outputs": [
    {
     "data": {
      "text/plain": [
       "62310     Jan 19, 2021\n",
       "102275    Mar 14, 2015\n",
       "3374      Nov 27, 2019\n",
       "Name: Released, dtype: object"
      ]
     },
     "execution_count": 80,
     "metadata": {},
     "output_type": "execute_result"
    }
   ],
   "source": [
    "train_data['Released'].head(3)"
   ]
  },
  {
   "cell_type": "code",
   "execution_count": 81,
   "id": "varying-forestry",
   "metadata": {},
   "outputs": [],
   "source": [
    "train_data['Released']=pd.to_datetime(train_data['Released'])"
   ]
  },
  {
   "cell_type": "code",
   "execution_count": 83,
   "id": "quarterly-marker",
   "metadata": {},
   "outputs": [
    {
     "name": "stdout",
     "output_type": "stream",
     "text": [
      "datetime64[ns]\n"
     ]
    }
   ],
   "source": [
    "print(train_data['Released'].dtype)"
   ]
  },
  {
   "cell_type": "code",
   "execution_count": 84,
   "id": "formal-abraham",
   "metadata": {},
   "outputs": [],
   "source": [
    "released_date_install=pd.concat([train_data['Installs'],train_data['Released']],axis=1)"
   ]
  },
  {
   "cell_type": "code",
   "execution_count": 85,
   "id": "hired-transsexual",
   "metadata": {},
   "outputs": [
    {
     "data": {
      "text/plain": [
       "[]"
      ]
     },
     "execution_count": 85,
     "metadata": {},
     "output_type": "execute_result"
    },
    {
     "data": {
      "text/plain": [
       "<Figure size 1080x864 with 0 Axes>"
      ]
     },
     "metadata": {},
     "output_type": "display_data"
    },
    {
     "data": {
      "image/png": "[encoded data removed]",
      "text/plain": [
       "<Figure size 432x288 with 1 Axes>"
      ]
     },
     "metadata": {
      "needs_background": "light"
     },
     "output_type": "display_data"
    }
   ],
   "source": [
    "plt.figure(figsize=(15,12))\n",
    "released_date_plot=released_date_install.set_index('Released').resample('3M').mean()\n",
    "released_date_plot.plot()\n",
    "plt.title('Released date Vs Installs',fontdict={'size':20,'weight':'bold'})\n",
    "plt.plot()"
   ]
  },
  {
   "cell_type": "code",
   "execution_count": 86,
   "id": "recreational-complex",
   "metadata": {},
   "outputs": [],
   "source": [
    "released_date_rating=pd.concat([train_data['Rating'],train_data['Released']],axis=1)"
   ]
  },
  {
   "cell_type": "code",
   "execution_count": 87,
   "id": "thrown-funds",
   "metadata": {},
   "outputs": [
    {
     "data": {
      "text/plain": [
       "[]"
      ]
     },
     "execution_count": 87,
     "metadata": {},
     "output_type": "execute_result"
    },
    {
     "data": {
      "text/plain": [
       "<Figure size 1080x864 with 0 Axes>"
      ]
     },
     "metadata": {},
     "output_type": "display_data"
    },
    {
     "data": {
      "image/png": "[encoded data removed]",
      "text/plain": [
       "<Figure size 432x288 with 1 Axes>"
      ]
     },
     "metadata": {
      "needs_background": "light"
     },
     "output_type": "display_data"
    }
   ],
   "source": [
    "plt.figure(figsize=(15,12))\n",
    "released_date_rating_plot=released_date_rating.set_index('Released').resample('3M').mean()\n",
    "released_date_rating_plot.plot()\n",
    "plt.title('Released date Vs Rating',fontdict={'size':20,'weight':'bold'})\n",
    "plt.plot()"
   ]
  },
  {
   "cell_type": "markdown",
   "id": "expressed-vector",
   "metadata": {},
   "source": [
    "### Last Updated Date"
   ]
  },
  {
   "cell_type": "code",
   "execution_count": 88,
   "id": "spiritual-oriental",
   "metadata": {},
   "outputs": [],
   "source": [
    "last_update_install=pd.concat([train_data['Installs'],train_data['Last update']],axis=1)"
   ]
  },
  {
   "cell_type": "code",
   "execution_count": 90,
   "id": "aging-austria",
   "metadata": {},
   "outputs": [],
   "source": [
    "train_data['Last update']=pd.to_datetime(train_data['Last update'])"
   ]
  },
  {
   "cell_type": "code",
   "execution_count": 93,
   "id": "competent-roller",
   "metadata": {},
   "outputs": [
    {
     "name": "stdout",
     "output_type": "stream",
     "text": [
      "datetime64[ns]\n"
     ]
    }
   ],
   "source": [
    "print(train_data['Released'].dtype)"
   ]
  },
  {
   "cell_type": "code",
   "execution_count": 94,
   "id": "former-chaos",
   "metadata": {},
   "outputs": [
    {
     "ename": "TypeError",
     "evalue": "Only valid with DatetimeIndex, TimedeltaIndex or PeriodIndex, but got an instance of 'Index'",
     "output_type": "error",
     "traceback": [
      "\u001b[0;31m---------------------------------------------------------------------------\u001b[0m",
      "\u001b[0;31mTypeError\u001b[0m                                 Traceback (most recent call last)",
      "\u001b[0;32m<ipython-input-94-bae24381742d>\u001b[0m in \u001b[0;36m<module>\u001b[0;34m\u001b[0m\n\u001b[1;32m      1\u001b[0m \u001b[0mplt\u001b[0m\u001b[0;34m.\u001b[0m\u001b[0mfigure\u001b[0m\u001b[0;34m(\u001b[0m\u001b[0mfigsize\u001b[0m\u001b[0;34m=\u001b[0m\u001b[0;34m(\u001b[0m\u001b[0;36m15\u001b[0m\u001b[0;34m,\u001b[0m\u001b[0;36m12\u001b[0m\u001b[0;34m)\u001b[0m\u001b[0;34m)\u001b[0m\u001b[0;34m\u001b[0m\u001b[0;34m\u001b[0m\u001b[0m\n\u001b[0;32m----> 2\u001b[0;31m \u001b[0mupdate_date_install_plot\u001b[0m\u001b[0;34m=\u001b[0m\u001b[0mlast_update_install\u001b[0m\u001b[0;34m.\u001b[0m\u001b[0mset_index\u001b[0m\u001b[0;34m(\u001b[0m\u001b[0;34m'Last update'\u001b[0m\u001b[0;34m)\u001b[0m\u001b[0;34m.\u001b[0m\u001b[0mresample\u001b[0m\u001b[0;34m(\u001b[0m\u001b[0;34m'3M'\u001b[0m\u001b[0;34m)\u001b[0m\u001b[0;34m.\u001b[0m\u001b[0mmean\u001b[0m\u001b[0;34m(\u001b[0m\u001b[0;34m)\u001b[0m\u001b[0;34m\u001b[0m\u001b[0;34m\u001b[0m\u001b[0m\n\u001b[0m\u001b[1;32m      3\u001b[0m \u001b[0mupdate_date_install_plot\u001b[0m\u001b[0;34m.\u001b[0m\u001b[0mplot\u001b[0m\u001b[0;34m(\u001b[0m\u001b[0;34m)\u001b[0m\u001b[0;34m\u001b[0m\u001b[0;34m\u001b[0m\u001b[0m\n\u001b[1;32m      4\u001b[0m \u001b[0mplt\u001b[0m\u001b[0;34m.\u001b[0m\u001b[0mtitle\u001b[0m\u001b[0;34m(\u001b[0m\u001b[0;34m'Last Updated date Vs Rating'\u001b[0m\u001b[0;34m,\u001b[0m\u001b[0mfontdict\u001b[0m\u001b[0;34m=\u001b[0m\u001b[0;34m{\u001b[0m\u001b[0;34m'size'\u001b[0m\u001b[0;34m:\u001b[0m\u001b[0;36m20\u001b[0m\u001b[0;34m,\u001b[0m\u001b[0;34m'weight'\u001b[0m\u001b[0;34m:\u001b[0m\u001b[0;34m'bold'\u001b[0m\u001b[0;34m}\u001b[0m\u001b[0;34m)\u001b[0m\u001b[0;34m\u001b[0m\u001b[0;34m\u001b[0m\u001b[0m\n\u001b[1;32m      5\u001b[0m \u001b[0mplt\u001b[0m\u001b[0;34m.\u001b[0m\u001b[0mplot\u001b[0m\u001b[0;34m(\u001b[0m\u001b[0;34m)\u001b[0m\u001b[0;34m\u001b[0m\u001b[0;34m\u001b[0m\u001b[0m\n",
      "\u001b[0;32m~/.local/lib/python3.8/site-packages/pandas/core/generic.py\u001b[0m in \u001b[0;36mresample\u001b[0;34m(self, rule, axis, closed, label, convention, kind, loffset, base, on, level, origin, offset)\u001b[0m\n\u001b[1;32m   8367\u001b[0m \u001b[0;34m\u001b[0m\u001b[0m\n\u001b[1;32m   8368\u001b[0m         \u001b[0maxis\u001b[0m \u001b[0;34m=\u001b[0m \u001b[0mself\u001b[0m\u001b[0;34m.\u001b[0m\u001b[0m_get_axis_number\u001b[0m\u001b[0;34m(\u001b[0m\u001b[0maxis\u001b[0m\u001b[0;34m)\u001b[0m\u001b[0;34m\u001b[0m\u001b[0;34m\u001b[0m\u001b[0m\n\u001b[0;32m-> 8369\u001b[0;31m         return get_resampler(\n\u001b[0m\u001b[1;32m   8370\u001b[0m             \u001b[0mself\u001b[0m\u001b[0;34m,\u001b[0m\u001b[0;34m\u001b[0m\u001b[0;34m\u001b[0m\u001b[0m\n\u001b[1;32m   8371\u001b[0m             \u001b[0mfreq\u001b[0m\u001b[0;34m=\u001b[0m\u001b[0mrule\u001b[0m\u001b[0;34m,\u001b[0m\u001b[0;34m\u001b[0m\u001b[0;34m\u001b[0m\u001b[0m\n",
      "\u001b[0;32m~/.local/lib/python3.8/site-packages/pandas/core/resample.py\u001b[0m in \u001b[0;36mget_resampler\u001b[0;34m(obj, kind, **kwds)\u001b[0m\n\u001b[1;32m   1309\u001b[0m     \"\"\"\n\u001b[1;32m   1310\u001b[0m     \u001b[0mtg\u001b[0m \u001b[0;34m=\u001b[0m \u001b[0mTimeGrouper\u001b[0m\u001b[0;34m(\u001b[0m\u001b[0;34m**\u001b[0m\u001b[0mkwds\u001b[0m\u001b[0;34m)\u001b[0m\u001b[0;34m\u001b[0m\u001b[0;34m\u001b[0m\u001b[0m\n\u001b[0;32m-> 1311\u001b[0;31m     \u001b[0;32mreturn\u001b[0m \u001b[0mtg\u001b[0m\u001b[0;34m.\u001b[0m\u001b[0m_get_resampler\u001b[0m\u001b[0;34m(\u001b[0m\u001b[0mobj\u001b[0m\u001b[0;34m,\u001b[0m \u001b[0mkind\u001b[0m\u001b[0;34m=\u001b[0m\u001b[0mkind\u001b[0m\u001b[0;34m)\u001b[0m\u001b[0;34m\u001b[0m\u001b[0;34m\u001b[0m\u001b[0m\n\u001b[0m\u001b[1;32m   1312\u001b[0m \u001b[0;34m\u001b[0m\u001b[0m\n\u001b[1;32m   1313\u001b[0m \u001b[0;34m\u001b[0m\u001b[0m\n",
      "\u001b[0;32m~/.local/lib/python3.8/site-packages/pandas/core/resample.py\u001b[0m in \u001b[0;36m_get_resampler\u001b[0;34m(self, obj, kind)\u001b[0m\n\u001b[1;32m   1474\u001b[0m             \u001b[0;32mreturn\u001b[0m \u001b[0mTimedeltaIndexResampler\u001b[0m\u001b[0;34m(\u001b[0m\u001b[0mobj\u001b[0m\u001b[0;34m,\u001b[0m \u001b[0mgroupby\u001b[0m\u001b[0;34m=\u001b[0m\u001b[0mself\u001b[0m\u001b[0;34m,\u001b[0m \u001b[0maxis\u001b[0m\u001b[0;34m=\u001b[0m\u001b[0mself\u001b[0m\u001b[0;34m.\u001b[0m\u001b[0maxis\u001b[0m\u001b[0;34m)\u001b[0m\u001b[0;34m\u001b[0m\u001b[0;34m\u001b[0m\u001b[0m\n\u001b[1;32m   1475\u001b[0m \u001b[0;34m\u001b[0m\u001b[0m\n\u001b[0;32m-> 1476\u001b[0;31m         raise TypeError(\n\u001b[0m\u001b[1;32m   1477\u001b[0m             \u001b[0;34m\"Only valid with DatetimeIndex, \"\u001b[0m\u001b[0;34m\u001b[0m\u001b[0;34m\u001b[0m\u001b[0m\n\u001b[1;32m   1478\u001b[0m             \u001b[0;34m\"TimedeltaIndex or PeriodIndex, \"\u001b[0m\u001b[0;34m\u001b[0m\u001b[0;34m\u001b[0m\u001b[0m\n",
      "\u001b[0;31mTypeError\u001b[0m: Only valid with DatetimeIndex, TimedeltaIndex or PeriodIndex, but got an instance of 'Index'"
     ]
    },
    {
     "data": {
      "text/plain": [
       "<Figure size 1080x864 with 0 Axes>"
      ]
     },
     "metadata": {},
     "output_type": "display_data"
    }
   ],
   "source": [
    "plt.figure(figsize=(15,12))\n",
    "update_date_install_plot=last_update_install.set_index('Last update').resample('3M').mean()\n",
    "update_date_install_plot.plot()\n",
    "plt.title('Last Updated date Vs Rating',fontdict={'size':20,'weight':'bold'})\n",
    "plt.plot()"
   ]
  },
  {
   "cell_type": "code",
   "execution_count": null,
   "id": "abroad-disorder",
   "metadata": {},
   "outputs": [],
   "source": []
  }
 ],
 "metadata": {
  "kernelspec": {
   "display_name": "Python 3",
   "language": "python",
   "name": "python3"
  },
  "language_info": {
   "codemirror_mode": {
    "name": "ipython",
    "version": 3
   },
   "file_extension": ".py",
   "mimetype": "text/x-python",
   "name": "python",
   "nbconvert_exporter": "python",
   "pygments_lexer": "ipython3",
   "version": "3.8.8"
  }
 },
 "nbformat": 4,
 "nbformat_minor": 5
}
